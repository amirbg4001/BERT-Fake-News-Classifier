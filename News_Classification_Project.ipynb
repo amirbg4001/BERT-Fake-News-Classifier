{
  "cells": [
    {
      "cell_type": "markdown",
      "metadata": {
        "id": "view-in-github",
        "colab_type": "text"
      },
      "source": [
        "<a href=\"https://colab.research.google.com/github/amirbg4001/BERT-Fake-News-Classifier/blob/main/News_Classification_Project.ipynb\" target=\"_parent\"><img src=\"https://colab.research.google.com/assets/colab-badge.svg\" alt=\"Open In Colab\"/></a>"
      ]
    },
    {
      "cell_type": "code",
      "execution_count": null,
      "metadata": {
        "colab": {
          "base_uri": "https://localhost:8080/"
        },
        "id": "1TVzk1Xyq0VV",
        "outputId": "6950e45b-6a94-4b41-a553-cd69dfe67205"
      },
      "outputs": [
        {
          "output_type": "stream",
          "name": "stdout",
          "text": [
            "Collecting transformers\n",
            "  Downloading transformers-4.19.1-py3-none-any.whl (4.2 MB)\n",
            "\u001b[K     |████████████████████████████████| 4.2 MB 14.4 MB/s \n",
            "\u001b[?25hRequirement already satisfied: numpy>=1.17 in /usr/local/lib/python3.7/dist-packages (from transformers) (1.21.6)\n",
            "Requirement already satisfied: filelock in /usr/local/lib/python3.7/dist-packages (from transformers) (3.6.0)\n",
            "Collecting tokenizers!=0.11.3,<0.13,>=0.11.1\n",
            "  Downloading tokenizers-0.12.1-cp37-cp37m-manylinux_2_12_x86_64.manylinux2010_x86_64.whl (6.6 MB)\n",
            "\u001b[K     |████████████████████████████████| 6.6 MB 55.2 MB/s \n",
            "\u001b[?25hRequirement already satisfied: requests in /usr/local/lib/python3.7/dist-packages (from transformers) (2.23.0)\n",
            "Collecting huggingface-hub<1.0,>=0.1.0\n",
            "  Downloading huggingface_hub-0.6.0-py3-none-any.whl (84 kB)\n",
            "\u001b[K     |████████████████████████████████| 84 kB 4.3 MB/s \n",
            "\u001b[?25hRequirement already satisfied: importlib-metadata in /usr/local/lib/python3.7/dist-packages (from transformers) (4.11.3)\n",
            "Requirement already satisfied: tqdm>=4.27 in /usr/local/lib/python3.7/dist-packages (from transformers) (4.64.0)\n",
            "Requirement already satisfied: packaging>=20.0 in /usr/local/lib/python3.7/dist-packages (from transformers) (21.3)\n",
            "Collecting pyyaml>=5.1\n",
            "  Downloading PyYAML-6.0-cp37-cp37m-manylinux_2_5_x86_64.manylinux1_x86_64.manylinux_2_12_x86_64.manylinux2010_x86_64.whl (596 kB)\n",
            "\u001b[K     |████████████████████████████████| 596 kB 49.2 MB/s \n",
            "\u001b[?25hRequirement already satisfied: regex!=2019.12.17 in /usr/local/lib/python3.7/dist-packages (from transformers) (2019.12.20)\n",
            "Requirement already satisfied: typing-extensions>=3.7.4.3 in /usr/local/lib/python3.7/dist-packages (from huggingface-hub<1.0,>=0.1.0->transformers) (4.2.0)\n",
            "Requirement already satisfied: pyparsing!=3.0.5,>=2.0.2 in /usr/local/lib/python3.7/dist-packages (from packaging>=20.0->transformers) (3.0.8)\n",
            "Requirement already satisfied: zipp>=0.5 in /usr/local/lib/python3.7/dist-packages (from importlib-metadata->transformers) (3.8.0)\n",
            "Requirement already satisfied: chardet<4,>=3.0.2 in /usr/local/lib/python3.7/dist-packages (from requests->transformers) (3.0.4)\n",
            "Requirement already satisfied: idna<3,>=2.5 in /usr/local/lib/python3.7/dist-packages (from requests->transformers) (2.10)\n",
            "Requirement already satisfied: urllib3!=1.25.0,!=1.25.1,<1.26,>=1.21.1 in /usr/local/lib/python3.7/dist-packages (from requests->transformers) (1.24.3)\n",
            "Requirement already satisfied: certifi>=2017.4.17 in /usr/local/lib/python3.7/dist-packages (from requests->transformers) (2021.10.8)\n",
            "Installing collected packages: pyyaml, tokenizers, huggingface-hub, transformers\n",
            "  Attempting uninstall: pyyaml\n",
            "    Found existing installation: PyYAML 3.13\n",
            "    Uninstalling PyYAML-3.13:\n",
            "      Successfully uninstalled PyYAML-3.13\n",
            "Successfully installed huggingface-hub-0.6.0 pyyaml-6.0 tokenizers-0.12.1 transformers-4.19.1\n"
          ]
        }
      ],
      "source": [
        "## Installing BERT pretrained with pytorch \n",
        "!pip install transformers"
      ]
    },
    {
      "cell_type": "code",
      "execution_count": null,
      "metadata": {
        "id": "KxE-r32IqQJ_"
      },
      "outputs": [],
      "source": [
        "import pandas as pd\n",
        "import numpy as np \n",
        "import torch \n",
        "from torch import nn\n",
        "import torchvision\n",
        "from transformers import BertTokenizer, BertModel\n",
        "import matplotlib.pyplot as plt\n",
        "plt.style.use('ggplot')\n"
      ]
    },
    {
      "cell_type": "markdown",
      "metadata": {
        "id": "6VtuSvgI2KQj"
      },
      "source": [
        "Integreraring Collected Data From kaggle to one DataFrame for further processing\n",
        "\n",
        "Dataset Used for this project : https://www.kaggle.com/datasets/clmentbisaillon/fake-and-real-news-dataset?resource=download"
      ]
    },
    {
      "cell_type": "code",
      "execution_count": null,
      "metadata": {
        "id": "3KvE8BM0sbiH",
        "colab": {
          "base_uri": "https://localhost:8080/",
          "height": 81
        },
        "outputId": "d55070db-a5a7-4049-fb90-ae791bc1b277"
      },
      "outputs": [
        {
          "output_type": "execute_result",
          "data": {
            "text/plain": [
              "                                               title  \\\n",
              "0  Special counsel Mueller asks White House for F...   \n",
              "\n",
              "                                                text       subject  \\\n",
              "0  WASHINGTON (Reuters) - Investigators working f...  politicsNews   \n",
              "\n",
              "              date  Real  \n",
              "0  August 5, 2017      1  "
            ],
            "text/html": [
              "\n",
              "  <div id=\"df-f5bc3400-35e7-46f6-ae48-fd6847ad621d\">\n",
              "    <div class=\"colab-df-container\">\n",
              "      <div>\n",
              "<style scoped>\n",
              "    .dataframe tbody tr th:only-of-type {\n",
              "        vertical-align: middle;\n",
              "    }\n",
              "\n",
              "    .dataframe tbody tr th {\n",
              "        vertical-align: top;\n",
              "    }\n",
              "\n",
              "    .dataframe thead th {\n",
              "        text-align: right;\n",
              "    }\n",
              "</style>\n",
              "<table border=\"1\" class=\"dataframe\">\n",
              "  <thead>\n",
              "    <tr style=\"text-align: right;\">\n",
              "      <th></th>\n",
              "      <th>title</th>\n",
              "      <th>text</th>\n",
              "      <th>subject</th>\n",
              "      <th>date</th>\n",
              "      <th>Real</th>\n",
              "    </tr>\n",
              "  </thead>\n",
              "  <tbody>\n",
              "    <tr>\n",
              "      <th>0</th>\n",
              "      <td>Special counsel Mueller asks White House for F...</td>\n",
              "      <td>WASHINGTON (Reuters) - Investigators working f...</td>\n",
              "      <td>politicsNews</td>\n",
              "      <td>August 5, 2017</td>\n",
              "      <td>1</td>\n",
              "    </tr>\n",
              "  </tbody>\n",
              "</table>\n",
              "</div>\n",
              "      <button class=\"colab-df-convert\" onclick=\"convertToInteractive('df-f5bc3400-35e7-46f6-ae48-fd6847ad621d')\"\n",
              "              title=\"Convert this dataframe to an interactive table.\"\n",
              "              style=\"display:none;\">\n",
              "        \n",
              "  <svg xmlns=\"http://www.w3.org/2000/svg\" height=\"24px\"viewBox=\"0 0 24 24\"\n",
              "       width=\"24px\">\n",
              "    <path d=\"M0 0h24v24H0V0z\" fill=\"none\"/>\n",
              "    <path d=\"M18.56 5.44l.94 2.06.94-2.06 2.06-.94-2.06-.94-.94-2.06-.94 2.06-2.06.94zm-11 1L8.5 8.5l.94-2.06 2.06-.94-2.06-.94L8.5 2.5l-.94 2.06-2.06.94zm10 10l.94 2.06.94-2.06 2.06-.94-2.06-.94-.94-2.06-.94 2.06-2.06.94z\"/><path d=\"M17.41 7.96l-1.37-1.37c-.4-.4-.92-.59-1.43-.59-.52 0-1.04.2-1.43.59L10.3 9.45l-7.72 7.72c-.78.78-.78 2.05 0 2.83L4 21.41c.39.39.9.59 1.41.59.51 0 1.02-.2 1.41-.59l7.78-7.78 2.81-2.81c.8-.78.8-2.07 0-2.86zM5.41 20L4 18.59l7.72-7.72 1.47 1.35L5.41 20z\"/>\n",
              "  </svg>\n",
              "      </button>\n",
              "      \n",
              "  <style>\n",
              "    .colab-df-container {\n",
              "      display:flex;\n",
              "      flex-wrap:wrap;\n",
              "      gap: 12px;\n",
              "    }\n",
              "\n",
              "    .colab-df-convert {\n",
              "      background-color: #E8F0FE;\n",
              "      border: none;\n",
              "      border-radius: 50%;\n",
              "      cursor: pointer;\n",
              "      display: none;\n",
              "      fill: #1967D2;\n",
              "      height: 32px;\n",
              "      padding: 0 0 0 0;\n",
              "      width: 32px;\n",
              "    }\n",
              "\n",
              "    .colab-df-convert:hover {\n",
              "      background-color: #E2EBFA;\n",
              "      box-shadow: 0px 1px 2px rgba(60, 64, 67, 0.3), 0px 1px 3px 1px rgba(60, 64, 67, 0.15);\n",
              "      fill: #174EA6;\n",
              "    }\n",
              "\n",
              "    [theme=dark] .colab-df-convert {\n",
              "      background-color: #3B4455;\n",
              "      fill: #D2E3FC;\n",
              "    }\n",
              "\n",
              "    [theme=dark] .colab-df-convert:hover {\n",
              "      background-color: #434B5C;\n",
              "      box-shadow: 0px 1px 3px 1px rgba(0, 0, 0, 0.15);\n",
              "      filter: drop-shadow(0px 1px 2px rgba(0, 0, 0, 0.3));\n",
              "      fill: #FFFFFF;\n",
              "    }\n",
              "  </style>\n",
              "\n",
              "      <script>\n",
              "        const buttonEl =\n",
              "          document.querySelector('#df-f5bc3400-35e7-46f6-ae48-fd6847ad621d button.colab-df-convert');\n",
              "        buttonEl.style.display =\n",
              "          google.colab.kernel.accessAllowed ? 'block' : 'none';\n",
              "\n",
              "        async function convertToInteractive(key) {\n",
              "          const element = document.querySelector('#df-f5bc3400-35e7-46f6-ae48-fd6847ad621d');\n",
              "          const dataTable =\n",
              "            await google.colab.kernel.invokeFunction('convertToInteractive',\n",
              "                                                     [key], {});\n",
              "          if (!dataTable) return;\n",
              "\n",
              "          const docLinkHtml = 'Like what you see? Visit the ' +\n",
              "            '<a target=\"_blank\" href=https://colab.research.google.com/notebooks/data_table.ipynb>data table notebook</a>'\n",
              "            + ' to learn more about interactive tables.';\n",
              "          element.innerHTML = '';\n",
              "          dataTable['output_type'] = 'display_data';\n",
              "          await google.colab.output.renderOutput(dataTable, element);\n",
              "          const docLink = document.createElement('div');\n",
              "          docLink.innerHTML = docLinkHtml;\n",
              "          element.appendChild(docLink);\n",
              "        }\n",
              "      </script>\n",
              "    </div>\n",
              "  </div>\n",
              "  "
            ]
          },
          "metadata": {},
          "execution_count": 3
        }
      ],
      "source": [
        "# Dataset Reference : https://www.kaggle.com/datasets/clmentbisaillon/fake-and-real-news-dataset?resource=download\n",
        "# Concating Fake and Real news into one shuffled dataset \n",
        "from IPython.core.interactiveshell import InteractiveShell\n",
        "InteractiveShell.ast_node_interactivity = 'all'\n",
        "\n",
        "df_fake = pd.read_csv(\"Fake.csv\").iloc[:5000]\n",
        "df_real = pd.read_csv(\"True.csv\").iloc[:5000]\n",
        "\n",
        "\n",
        "\n",
        "df_real[\"type\"] = \"Real\"\n",
        "df_fake[\"type\"] =\"Fake\"\n",
        "\n",
        "df = pd.concat([df_real,df_fake])\n",
        "df = df.sample(frac=1 , random_state=59).reset_index()\n",
        "\n",
        "target = pd.get_dummies(df[\"type\"],drop_first=True)\n",
        "\n",
        "df = pd.concat([df,target],axis=1)\n",
        "\n",
        "df.drop(columns=['index','type'],inplace=True)\n",
        "\n",
        "df.to_csv(\"Fake_real_news_dataset.csv\",index=False)\n",
        "\n",
        "df.head(1)\n"
      ]
    },
    {
      "cell_type": "markdown",
      "metadata": {
        "id": "UhX8Y4Sm2Uv-"
      },
      "source": [
        "Buidling Dataset Class using PyTorch capabilities & BERT Tokenizer Immplementation is also included\n"
      ]
    },
    {
      "cell_type": "code",
      "execution_count": null,
      "metadata": {
        "id": "WB-Y4Y1yb-rn"
      },
      "outputs": [],
      "source": [
        "# Buidling Dataset Class using PyTorch capabilities & BERT Tokenizer Immplementation is also included\n",
        "from torch.utils.data import Dataset,DataLoader\n",
        "class RealFakeNewsDataset(Dataset):\n",
        "  def __init__(self,df,tokenizer=None,max_length=None) -> None:\n",
        "      # DataLoading Using Pandas (numpy could be used as well)\n",
        "      self.df = df\n",
        "      \n",
        "      self.target = \"Real\"\n",
        "      self.features= 'text'   \n",
        "\n",
        "      self.y = self.df[self.target]\n",
        "      self.x = self.df[self.features]\n",
        "\n",
        "      self.n_samples = df.shape[0]\n",
        "\n",
        "      # Including Tokenizer\n",
        "      self.tokenizer=tokenizer\n",
        "      self.max_length = max_length\n",
        "\n",
        "  def __getitem__(self, index):\n",
        "      x = self.x.iloc[index]\n",
        "      y = self.y.iloc[index]\n",
        "      sample =  x,y\n",
        "      # If Tokenizer is passed as an argument in the constructor return tokenized data \n",
        "      if self.tokenizer:\n",
        "        features = self.tokenizer(x,max_length = self.max_length,padding='max_length',return_tensors='pt',truncation=True)\n",
        "        sample = features , y\n",
        "      return sample\n",
        "  def __len__(self):\n",
        "    return self.n_samples\n",
        "  \n",
        "\n",
        "    "
      ]
    },
    {
      "cell_type": "markdown",
      "metadata": {
        "id": "x3DYEEvl2jhb"
      },
      "source": [
        "Testing if the Dataset class works\n"
      ]
    },
    {
      "cell_type": "code",
      "execution_count": null,
      "metadata": {
        "colab": {
          "base_uri": "https://localhost:8080/",
          "height": 237,
          "referenced_widgets": [
            "4c932133fef24fa686a7ac523cfa4bc2",
            "6f692348efa4493182513bbe798a0deb",
            "191f7fc2e18445669904521cf0cbff17",
            "a9e4e79b69a54bdfa9a4f3a38139d616",
            "2d08802901e1463a9478e572316bacff",
            "32fed64b1ead4656919ef73b6da39335",
            "75907ca382694ebf86a8c439c336249a",
            "a5944c2bd6284cc08cb7d2b75f4359c8",
            "fb0005f0666e40bbba400568556bb5d2",
            "f803cedd0edd46879080e68018912a69",
            "c3c49aa67c364fadaa39e6a49b04267d",
            "1887ee0c35634a2fb4bc826441b81191",
            "17aa33ca5fbc4994bc87f6f9f7f9d81b",
            "ca989cef8b3d48dd981c58c17e8c3198",
            "7cc9e8e77dd9409d98a0782571d8db9a",
            "c10db728ae6d48828becc2a11e404037",
            "fb21f57cd9b2414bbae2b6e1496e1112",
            "6b28db25442a424c8bd6fc1ef6efe464",
            "12e4432841854c5ca136f7b1a3bd1126",
            "90f4a2ea7f884289818e2883038fe74d",
            "3b3d2bcd23c346d9a50c288ea1afcdff",
            "0b5e551f3b2a486fab0032e4a4285a5b",
            "4306e51432aa47fbb8f16feebdca1c56",
            "7c4187119f8341baabb836cc483a4c26",
            "06e735ba6fb0485fb2fa360e84962672",
            "b7065769c6df4851b9621ac392f08773",
            "643de03589b846c58ac130014f2cd594",
            "6d2c46bec8cf4a408af31d4359dc73a9",
            "3ca9c3e10b454f918a37f9bc64230187",
            "ab02d477915b459186ddec1ed33092bd",
            "c394f11687c54dac9e3bfb39c1818d76",
            "813a569d250d4cb3aa5ed90f15aa9fc5",
            "5315087f3bbc498981d89102dff8b492"
          ]
        },
        "id": "-xD3Y-mDsyUP",
        "outputId": "88e195c4-7f59-4741-9b60-0a30c77510c0"
      },
      "outputs": [
        {
          "output_type": "display_data",
          "data": {
            "text/plain": [
              "Downloading:   0%|          | 0.00/208k [00:00<?, ?B/s]"
            ],
            "application/vnd.jupyter.widget-view+json": {
              "version_major": 2,
              "version_minor": 0,
              "model_id": "4c932133fef24fa686a7ac523cfa4bc2"
            }
          },
          "metadata": {}
        },
        {
          "output_type": "display_data",
          "data": {
            "text/plain": [
              "Downloading:   0%|          | 0.00/29.0 [00:00<?, ?B/s]"
            ],
            "application/vnd.jupyter.widget-view+json": {
              "version_major": 2,
              "version_minor": 0,
              "model_id": "1887ee0c35634a2fb4bc826441b81191"
            }
          },
          "metadata": {}
        },
        {
          "output_type": "display_data",
          "data": {
            "text/plain": [
              "Downloading:   0%|          | 0.00/570 [00:00<?, ?B/s]"
            ],
            "application/vnd.jupyter.widget-view+json": {
              "version_major": 2,
              "version_minor": 0,
              "model_id": "4306e51432aa47fbb8f16feebdca1c56"
            }
          },
          "metadata": {}
        },
        {
          "output_type": "stream",
          "name": "stderr",
          "text": [
            "/usr/local/lib/python3.7/dist-packages/torch/utils/data/dataloader.py:490: UserWarning: This DataLoader will create 3 worker processes in total. Our suggested max number of worker in current system is 2, which is smaller than what this DataLoader is going to create. Please be aware that excessive worker creation might get DataLoader running slow or even freeze, lower the worker number to avoid potential slowness/freeze if necessary.\n",
            "  cpuset_checked))\n"
          ]
        },
        {
          "output_type": "stream",
          "name": "stdout",
          "text": [
            "[CLS] WASHINGTON ( Reuters ) - Investigators working for U. S. special counsel Robert Mueller, who is investigating whether President Donald Trump ’ s 2016 campaign colluded with Russia, have asked the White House for documents related to his former national security adviser Michael Flynn, the New York Times reported on Friday. “ Though not a formal subpoena, the document request is the first known instance of Mr. Mueller ’ s team asking the White [SEP]\n",
            "\n",
            "\n",
            "WASHINGTON (Reuters) - Investigators working for U.S. special counsel Robert Mueller, who is investigating whether President Donald Trump’s 2016 campaign colluded with Russia, have asked the White House for documents related to his former national security adviser Michael Flynn, the New York Times reported on Friday. “Though not a formal subpoena, the document request is the first known instance of Mr. Mueller’s team asking the White House to hand over records,” said the Times, which cited unnamed people close to the investigation for the report.  The Times also said the investigators had questioned witnesses about whether Flynn was secretly paid by the Turkish government during the final months of the 2016 campaign. The White House and Flynn’s lawyer, Robert Kelner, did not immediately respond to requests from Reuters for comment. The Times quoted Ty Cobb, special counsel to Trump, as saying “We’ve said before we’re collaborating with the special counsel on an ongoing basis.” Trump has denied any collusion between his campaign and Russia and called the investigation a witch hunt. The Republican president fired Flynn in February after it became clear that he had falsely characterized the nature of phone conversations he had with the Russian ambassador to Washington in December. Reuters reported in June that according to a subpoena, federal prosecutors in Virginia were investigating a deal between Flynn and Turkish businessman Ekim Alptekin as part of a grand jury criminal probe. Alptekin’s company, Netherlands-based Inovo BV, paid the now-inactive Flynn Intel Group $530,000 (406,554 pounds) between September and November 2016 to produce a documentary and research on Fethullah Gulen, an exiled Turkish cleric living in the United States. Turkish President Tayyip Erdogan blames Gulen for a failed coup last year. \n"
          ]
        }
      ],
      "source": [
        "# Testing if the Dataset class works\n",
        "\n",
        "df=pd.read_csv(\"Fake_real_news_dataset.csv\")\n",
        "\n",
        "tokenizer = BertTokenizer.from_pretrained('bert-base-cased')\n",
        "data = RealFakeNewsDataset(tokenizer=tokenizer,df=df,max_length=100)\n",
        "\n",
        "dataloader = DataLoader(dataset=data,batch_size=4,num_workers=3)\n",
        "\n",
        "dataiter = iter(dataloader)\n",
        "features,label = dataiter.next()\n",
        "\n",
        "\n",
        "# decoding one of the records \n",
        "\n",
        "decoded = tokenizer.decode(features['input_ids'][0][0])\n",
        "print(decoded)\n",
        "print('\\n')\n",
        "print(df['text'].iloc[0])"
      ]
    },
    {
      "cell_type": "markdown",
      "metadata": {
        "id": "n8oS2hqw2mZu"
      },
      "source": [
        "Building the Classifier Class using PyTorch "
      ]
    },
    {
      "cell_type": "code",
      "execution_count": null,
      "metadata": {
        "id": "M_s-tOsONTF1"
      },
      "outputs": [],
      "source": [
        "from torch.nn.modules.dropout import Dropout\n",
        "## Classifier model bulding \n",
        "\n",
        "class BertFakeNewsDetector(nn.Module):\n",
        "  def __init__(self,bert_model,dropout=0.2):\n",
        "      super(BertFakeNewsDetector,self).__init__()\n",
        "\n",
        "      # Including BertModel for forward section\n",
        "      self.bert_model = bert_model\n",
        "      # Using 3 Layer MLP with sigmoid\n",
        "\n",
        "      layers =[\n",
        "          nn.Linear(768,512),\n",
        "          nn.ReLU(),\n",
        "          nn.Dropout(dropout),\n",
        "          nn.Linear(512,128),\n",
        "          nn.ReLU(),\n",
        "          nn.Dropout(dropout),\n",
        "          nn.Linear(128,1),\n",
        "          nn.Sigmoid()\n",
        "\n",
        "      ]\n",
        "      self.model = nn.Sequential(*layers)\n",
        "  def forward(self,input_ids,attention_masks):\n",
        "\n",
        "    _, Bert_output = self.bert_model(input_ids = input_ids , attention_mask = attention_masks , return_dict=False)\n",
        "    final_output = self.model(Bert_output)\n",
        "    return final_output\n",
        "\n",
        "  def real(self,final_output,thereshold=0.5):\n",
        "    def filt(c):\n",
        "      if c>= thereshold:\n",
        "        c = 1\n",
        "      else :\n",
        "        c=0\n",
        "      return c\n",
        "    \n",
        "    final_output = final_output.to(\"cpu\")\n",
        "    final_output = final_output.detach().apply_(filt)\n",
        "    final_output.require_grad = True \n",
        "\n",
        "    return final_output\n"
      ]
    },
    {
      "cell_type": "markdown",
      "metadata": {
        "id": "QlLOpvWW20gp"
      },
      "source": [
        "So Far Required Classes are structured, on the next steps on this project , Bellow task must be done \n",
        "1. Checking Data integrity (Class Imbalance , removing data record with less than 100 characters )\n",
        "2. Spliting Data into training , Validation and Test set\n",
        "2. Training the Classifier (Fine-tunning)"
      ]
    },
    {
      "cell_type": "code",
      "execution_count": null,
      "metadata": {
        "colab": {
          "base_uri": "https://localhost:8080/",
          "height": 426
        },
        "id": "RKBhDexK3jEi",
        "outputId": "f065332d-10f6-4bac-86cb-a90eed3e41e9"
      },
      "outputs": [
        {
          "output_type": "execute_result",
          "data": {
            "text/plain": [
              "      title  text  subject  date\n",
              "Real                            \n",
              "0      5000  5000     5000  5000\n",
              "1      5000  5000     5000  5000"
            ],
            "text/html": [
              "\n",
              "  <div id=\"df-25933d57-9afc-405a-9ca9-88431e413d56\">\n",
              "    <div class=\"colab-df-container\">\n",
              "      <div>\n",
              "<style scoped>\n",
              "    .dataframe tbody tr th:only-of-type {\n",
              "        vertical-align: middle;\n",
              "    }\n",
              "\n",
              "    .dataframe tbody tr th {\n",
              "        vertical-align: top;\n",
              "    }\n",
              "\n",
              "    .dataframe thead th {\n",
              "        text-align: right;\n",
              "    }\n",
              "</style>\n",
              "<table border=\"1\" class=\"dataframe\">\n",
              "  <thead>\n",
              "    <tr style=\"text-align: right;\">\n",
              "      <th></th>\n",
              "      <th>title</th>\n",
              "      <th>text</th>\n",
              "      <th>subject</th>\n",
              "      <th>date</th>\n",
              "    </tr>\n",
              "    <tr>\n",
              "      <th>Real</th>\n",
              "      <th></th>\n",
              "      <th></th>\n",
              "      <th></th>\n",
              "      <th></th>\n",
              "    </tr>\n",
              "  </thead>\n",
              "  <tbody>\n",
              "    <tr>\n",
              "      <th>0</th>\n",
              "      <td>5000</td>\n",
              "      <td>5000</td>\n",
              "      <td>5000</td>\n",
              "      <td>5000</td>\n",
              "    </tr>\n",
              "    <tr>\n",
              "      <th>1</th>\n",
              "      <td>5000</td>\n",
              "      <td>5000</td>\n",
              "      <td>5000</td>\n",
              "      <td>5000</td>\n",
              "    </tr>\n",
              "  </tbody>\n",
              "</table>\n",
              "</div>\n",
              "      <button class=\"colab-df-convert\" onclick=\"convertToInteractive('df-25933d57-9afc-405a-9ca9-88431e413d56')\"\n",
              "              title=\"Convert this dataframe to an interactive table.\"\n",
              "              style=\"display:none;\">\n",
              "        \n",
              "  <svg xmlns=\"http://www.w3.org/2000/svg\" height=\"24px\"viewBox=\"0 0 24 24\"\n",
              "       width=\"24px\">\n",
              "    <path d=\"M0 0h24v24H0V0z\" fill=\"none\"/>\n",
              "    <path d=\"M18.56 5.44l.94 2.06.94-2.06 2.06-.94-2.06-.94-.94-2.06-.94 2.06-2.06.94zm-11 1L8.5 8.5l.94-2.06 2.06-.94-2.06-.94L8.5 2.5l-.94 2.06-2.06.94zm10 10l.94 2.06.94-2.06 2.06-.94-2.06-.94-.94-2.06-.94 2.06-2.06.94z\"/><path d=\"M17.41 7.96l-1.37-1.37c-.4-.4-.92-.59-1.43-.59-.52 0-1.04.2-1.43.59L10.3 9.45l-7.72 7.72c-.78.78-.78 2.05 0 2.83L4 21.41c.39.39.9.59 1.41.59.51 0 1.02-.2 1.41-.59l7.78-7.78 2.81-2.81c.8-.78.8-2.07 0-2.86zM5.41 20L4 18.59l7.72-7.72 1.47 1.35L5.41 20z\"/>\n",
              "  </svg>\n",
              "      </button>\n",
              "      \n",
              "  <style>\n",
              "    .colab-df-container {\n",
              "      display:flex;\n",
              "      flex-wrap:wrap;\n",
              "      gap: 12px;\n",
              "    }\n",
              "\n",
              "    .colab-df-convert {\n",
              "      background-color: #E8F0FE;\n",
              "      border: none;\n",
              "      border-radius: 50%;\n",
              "      cursor: pointer;\n",
              "      display: none;\n",
              "      fill: #1967D2;\n",
              "      height: 32px;\n",
              "      padding: 0 0 0 0;\n",
              "      width: 32px;\n",
              "    }\n",
              "\n",
              "    .colab-df-convert:hover {\n",
              "      background-color: #E2EBFA;\n",
              "      box-shadow: 0px 1px 2px rgba(60, 64, 67, 0.3), 0px 1px 3px 1px rgba(60, 64, 67, 0.15);\n",
              "      fill: #174EA6;\n",
              "    }\n",
              "\n",
              "    [theme=dark] .colab-df-convert {\n",
              "      background-color: #3B4455;\n",
              "      fill: #D2E3FC;\n",
              "    }\n",
              "\n",
              "    [theme=dark] .colab-df-convert:hover {\n",
              "      background-color: #434B5C;\n",
              "      box-shadow: 0px 1px 3px 1px rgba(0, 0, 0, 0.15);\n",
              "      filter: drop-shadow(0px 1px 2px rgba(0, 0, 0, 0.3));\n",
              "      fill: #FFFFFF;\n",
              "    }\n",
              "  </style>\n",
              "\n",
              "      <script>\n",
              "        const buttonEl =\n",
              "          document.querySelector('#df-25933d57-9afc-405a-9ca9-88431e413d56 button.colab-df-convert');\n",
              "        buttonEl.style.display =\n",
              "          google.colab.kernel.accessAllowed ? 'block' : 'none';\n",
              "\n",
              "        async function convertToInteractive(key) {\n",
              "          const element = document.querySelector('#df-25933d57-9afc-405a-9ca9-88431e413d56');\n",
              "          const dataTable =\n",
              "            await google.colab.kernel.invokeFunction('convertToInteractive',\n",
              "                                                     [key], {});\n",
              "          if (!dataTable) return;\n",
              "\n",
              "          const docLinkHtml = 'Like what you see? Visit the ' +\n",
              "            '<a target=\"_blank\" href=https://colab.research.google.com/notebooks/data_table.ipynb>data table notebook</a>'\n",
              "            + ' to learn more about interactive tables.';\n",
              "          element.innerHTML = '';\n",
              "          dataTable['output_type'] = 'display_data';\n",
              "          await google.colab.output.renderOutput(dataTable, element);\n",
              "          const docLink = document.createElement('div');\n",
              "          docLink.innerHTML = docLinkHtml;\n",
              "          element.appendChild(docLink);\n",
              "        }\n",
              "      </script>\n",
              "    </div>\n",
              "  </div>\n",
              "  "
            ]
          },
          "metadata": {},
          "execution_count": 7
        },
        {
          "output_type": "execute_result",
          "data": {
            "text/plain": [
              "<matplotlib.axes._subplots.AxesSubplot at 0x7f3ea41ce4d0>"
            ]
          },
          "metadata": {},
          "execution_count": 7
        },
        {
          "output_type": "stream",
          "name": "stdout",
          "text": [
            "Classes are well balanced\n"
          ]
        },
        {
          "output_type": "display_data",
          "data": {
            "text/plain": [
              "<Figure size 432x288 with 1 Axes>"
            ],
            "image/png": "[encoded data removed]"
          },
          "metadata": {}
        }
      ],
      "source": [
        "import seaborn as sns\n",
        "# Checking Data integrity (Class Imbalance , removing data record with less than 100 characters )\n",
        "\n",
        "main_df = df=pd.read_csv(\"Fake_real_news_dataset.csv\")\n",
        "\n",
        "f = main_df['text'].str.len() > 80\n",
        "\n",
        "main_df = main_df[f]\n",
        "\n",
        "# Checking Class Imabalance \n",
        "\n",
        "main_df.groupby('Real').count()\n",
        "\n",
        "sns.countplot(x=\"Real\",data=main_df)\n",
        "\n",
        "print(\"Classes are well balanced\")"
      ]
    },
    {
      "cell_type": "code",
      "execution_count": null,
      "metadata": {
        "id": "YSIinQ6s_XUz"
      },
      "outputs": [],
      "source": [
        "# Spliting Data using Sklearn \n",
        "\n",
        "import sklearn\n",
        "from sklearn.model_selection import train_test_split\n",
        "\n",
        "#Spliting data set to train , validation and test set \n",
        "\n",
        "\n",
        "X_train,X_test,y_train,y_test = train_test_split(main_df['text'],main_df['Real'],random_state=52,test_size=0.4)\n",
        "\n",
        "X_train,X_val,y_train,y_val = train_test_split(X_train,y_train,random_state=52,test_size=0.5)\n",
        "\n",
        "train_set = pd.concat([X_train,y_train],axis=1)\n",
        "val_set = pd.concat([X_val,y_val],axis=1)\n",
        "test_set = pd.concat([X_test,y_test],axis=1)\n",
        "\n",
        "#Making instances of Pytorch Dataset for each train , validation and test set to tokenize data \n",
        "\n",
        "batch_size=128\n",
        "max_length=80\n",
        "\n",
        "tokenizer = BertTokenizer.from_pretrained('bert-base-cased')\n",
        "\n",
        "train_set = RealFakeNewsDataset(tokenizer=tokenizer,df=train_set,max_length=max_length)\n",
        "\n",
        "val_set = RealFakeNewsDataset(tokenizer=tokenizer,df=val_set,max_length=max_length)\n",
        "\n",
        "# Dividing datasets to batches for Fine-tuning Section\n",
        "\n",
        "train_batch = DataLoader(dataset =train_set,batch_size= batch_size )\n",
        "\n",
        "val_batch = DataLoader(dataset =val_set ,batch_size= batch_size )\n",
        "\n"
      ]
    },
    {
      "cell_type": "markdown",
      "metadata": {
        "id": "sf2dKi694044"
      },
      "source": [
        "So far the Second task which was spliting data into training , validation and test set is complete. On the next section the Fine-Tuning (Training Section) is commenced "
      ]
    },
    {
      "cell_type": "code",
      "execution_count": null,
      "metadata": {
        "colab": {
          "base_uri": "https://localhost:8080/",
          "height": 312,
          "referenced_widgets": [
            "0d8a90a25a0243caa8c74cf38ea79637",
            "2ab101bd42a040c5b51fcc290d9b23f3",
            "437bc3a0bc7347fe81ee01fb32f0ffcf",
            "3cab4ca1e40c450885f87460aaffb05e",
            "ce8a8a6e1dea4032a01c2b1e9079a2ad",
            "5ef6283b49a242e49480a49e38f48fe2",
            "6f6469cfd4a44b849fa2dae18407c494",
            "47536a08fe0b4319989531da059872de",
            "25ef98e472674e86828ef33633c8f94f",
            "c0046106735b44519ba4ee581a8ae31e",
            "fcc12622e065417bbe3d628a2da77788"
          ]
        },
        "id": "o9Wj1s2W5Io0",
        "outputId": "8c2f64d2-42ed-4c45-c37d-6ae711aedb2e"
      },
      "outputs": [
        {
          "output_type": "display_data",
          "data": {
            "text/plain": [
              "Downloading:   0%|          | 0.00/416M [00:00<?, ?B/s]"
            ],
            "application/vnd.jupyter.widget-view+json": {
              "version_major": 2,
              "version_minor": 0,
              "model_id": "0d8a90a25a0243caa8c74cf38ea79637"
            }
          },
          "metadata": {}
        },
        {
          "output_type": "stream",
          "name": "stderr",
          "text": [
            "Some weights of the model checkpoint at bert-base-cased were not used when initializing BertModel: ['cls.seq_relationship.weight', 'cls.predictions.transform.LayerNorm.weight', 'cls.predictions.transform.dense.bias', 'cls.predictions.transform.LayerNorm.bias', 'cls.predictions.transform.dense.weight', 'cls.predictions.decoder.weight', 'cls.seq_relationship.bias', 'cls.predictions.bias']\n",
            "- This IS expected if you are initializing BertModel from the checkpoint of a model trained on another task or with another architecture (e.g. initializing a BertForSequenceClassification model from a BertForPreTraining model).\n",
            "- This IS NOT expected if you are initializing BertModel from the checkpoint of a model that you expect to be exactly identical (initializing a BertForSequenceClassification model from a BertForSequenceClassification model).\n"
          ]
        },
        {
          "output_type": "stream",
          "name": "stdout",
          "text": [
            "1/5 Epochs \t Training_loss 0.00558 \t Training_Accuracy 0.4977 \t   \n",
            "Validation_loss 0.37879 \t Validation_Accuracy 0.5250 \t   \n",
            "2/5 Epochs \t Training_loss 0.00552 \t Training_Accuracy 0.5397 \t   \n",
            "Validation_loss 0.32857 \t Validation_Accuracy 0.5910 \t   \n",
            "3/5 Epochs \t Training_loss 0.00540 \t Training_Accuracy 0.6110 \t   \n",
            "Validation_loss 0.25394 \t Validation_Accuracy 0.6827 \t   \n",
            "4/5 Epochs \t Training_loss 0.00520 \t Training_Accuracy 0.7507 \t   \n",
            "Validation_loss 0.13728 \t Validation_Accuracy 0.8260 \t   \n",
            "5/5 Epochs \t Training_loss 0.00483 \t Training_Accuracy 0.8913 \t   \n",
            "Validation_loss 0.05022 \t Validation_Accuracy 0.9370 \t   \n",
            "total training and validation time 9.14 Mins\n"
          ]
        }
      ],
      "source": [
        "\n",
        "import torch.optim\n",
        "import time\n",
        "start_time = time.time()\n",
        "# Check if cuda is available \n",
        "cuda = torch.cuda.is_available()\n",
        "\n",
        "if cuda :\n",
        "  device = torch.device('cuda')\n",
        "else:\n",
        "  device = torch.device('cpu')\n",
        "\n",
        "Bert_model = BertModel.from_pretrained('bert-base-cased')\n",
        "\n",
        "Classifier = BertFakeNewsDetector(Bert_model,0.5)\n",
        "\n",
        "learning_rate = 0.002\n",
        "epochs = 5\n",
        "\n",
        "optimizer = torch.optim.SGD(Classifier.parameters(),lr=learning_rate)\n",
        "\n",
        "LossFunc = nn.BCELoss()\n",
        "\n",
        "total_samples= len(train_set)\n",
        "n_iter=np.ceil(total_samples/batch_size)\n",
        "\n",
        "# moving the model on cuda \n",
        "\n",
        "if cuda :\n",
        "  Classifier= Classifier.cuda()\n",
        "  LossFunc=LossFunc.cuda()\n",
        "\n",
        "# Starting Fine-Tuning \n",
        "train_history ={\n",
        "    'loss':[],\n",
        "    \"Accuracy\":[]\n",
        "}\n",
        "\n",
        "val_history ={\n",
        "    'loss':[],\n",
        "    \"Accuracy\":[]\n",
        "}\n",
        "for epoch in range(epochs):\n",
        "  batch_loss_sum =0 \n",
        "  batch_accuracy_sum= 0 \n",
        "  #training section (ForEach Batch)\n",
        "  for i,(features,target) in enumerate(train_batch):\n",
        "\n",
        " \n",
        "\n",
        "    # Reshaping inputs \n",
        "    features['input_ids'] = features['input_ids'].view(features['input_ids'].shape[0]*features['input_ids'].shape[1],features['input_ids'].shape[2])\n",
        "    features['attention_mask'] = features['attention_mask'].view(features['attention_mask'].shape[0]*features['attention_mask'].shape[1],features['attention_mask'].shape[2])\n",
        "\n",
        "    # Moving Tensors to GPU\n",
        "    target = target.to(device)\n",
        "    input_ids = features['input_ids'].to(device)\n",
        "    attention_mask = features['attention_mask'].to(device)\n",
        "\n",
        "    #Forward\n",
        "    outputs = Classifier(input_ids,attention_mask)\n",
        "    target = target.view(target.shape[0],1)\n",
        "\n",
        "    # Loss computation for each batch \n",
        "    batch_Loss = LossFunc(outputs.float(),target.float())\n",
        "    batch_loss_sum +=batch_Loss\n",
        "\n",
        "    # Accuracy computation for each batch \n",
        "\n",
        "    predictions = Classifier.real(outputs)\n",
        "    predictions = predictions.to(device)\n",
        "    batch_accuracy_sum += (predictions == target).sum().item()\n",
        "\n",
        "\n",
        "    # Gradient Descent and Backprob\n",
        "    Classifier.zero_grad()\n",
        "    batch_Loss.backward()\n",
        "    optimizer.step()\n",
        "    \n",
        "\n",
        "\n",
        "  # Saving Loss value for each epoch\n",
        "  train_history['loss'].append(batch_loss_sum/len(train_set))\n",
        "  train_history['Accuracy'].append(batch_accuracy_sum/len(train_set))\n",
        "\n",
        "\n",
        "  # Validating the training section for each epoch \n",
        "  val_loss_sum = 0\n",
        "  val_accuracy_sum = 0 \n",
        "  with torch.no_grad():\n",
        "    for i , (features,target) in enumerate(val_batch):\n",
        "      \n",
        "      # Reshaping inputs \n",
        "      features['input_ids'] = features['input_ids'].view(features['input_ids'].shape[0]*features['input_ids'].shape[1],features['input_ids'].shape[2])\n",
        "      features['attention_mask'] = features['attention_mask'].view(features['attention_mask'].shape[0]*features['attention_mask'].shape[1],features['attention_mask'].shape[2])\n",
        "      # Moving Tensors to GPU\n",
        "      target = target.to(device)\n",
        "      input_ids = features['input_ids'].to(device)\n",
        "      attention_mask = features['attention_mask'].to(device)\n",
        "\n",
        "      #Forward \n",
        "      val_outputs = Classifier(input_ids,attention_mask)\n",
        "      val_outputs = Classifier.real(val_outputs)\n",
        "      val_outputs = val_outputs.to(device)\n",
        "      target = target.view(target.shape[0],1)\n",
        "    \n",
        "      # Loss computation for each Validation batch \n",
        "      val_loss = LossFunc(val_outputs.float(),target.float())\n",
        "      val_loss_sum +=val_loss\n",
        "\n",
        "      # Accuracy computation for each Validation batch \n",
        "      val_accuracy_sum += (val_outputs == target).sum().item()\n",
        "\n",
        "  val_history['loss'].append(val_loss_sum/len(val_set))\n",
        "  val_history['Accuracy'].append(val_accuracy_sum/len(val_set))\n",
        "  # Reporting Each epochs' status\n",
        "\n",
        "  print(f\"{epoch+1}/{epochs} Epochs \\t Training_loss {train_history['loss'][epoch]:0.5f} \\t Training_Accuracy {train_history['Accuracy'][epoch]:0.4f} \\t   \")\n",
        "  print(f\"Validation_loss {val_history['loss'][epoch]:0.5f} \\t Validation_Accuracy {val_history['Accuracy'][epoch]:0.4f} \\t   \")\n",
        "\n",
        "exec_time = time.time() -  start_time \n",
        "\n",
        "\n",
        "\n",
        "print(f'total training and validation time {exec_time/60:0.2f} Mins')"
      ]
    },
    {
      "cell_type": "markdown",
      "metadata": {
        "id": "-KAceQ9jfwDE"
      },
      "source": [
        "Now our model i Fine-tuned. It is time to evaluate the model with the test set"
      ]
    },
    {
      "cell_type": "markdown",
      "metadata": {
        "id": "9g_-1sR5f6lG"
      },
      "source": [
        "## **Evaluation Section**\n",
        "\n",
        "-----------------------------------------------------------"
      ]
    },
    {
      "cell_type": "code",
      "execution_count": null,
      "metadata": {
        "id": "p8iRqGeTg5nz"
      },
      "outputs": [],
      "source": [
        "# Bert_model = BertModel.from_pretrained('bert-base-cased')\n",
        "\n",
        "# Classifier = BertFakeNewsDetector(Bert_model,0.5)\n",
        "# cuda = torch.cuda.is_available()\n",
        "\n",
        "# if cuda :\n",
        "#   device = torch.device('cuda')\n",
        "#   Classifier= Classifier.cuda()\n",
        "# else:\n",
        "#   device = torch.device('cpu')\n",
        "# Predicting from test_set\n",
        "test_set = RealFakeNewsDataset(tokenizer=tokenizer,df=test_set,max_length=max_length)\n",
        "test_batch = DataLoader(dataset =test_set )\n",
        "test_targets = torch.empty(y_test.shape[0],1)\n",
        "test_predictions_proba = torch.empty(y_test.shape[0],1)\n",
        "test_predictions = torch.empty(y_test.shape[0],1)\n",
        "\n",
        "for i ,(test_inputs,test_target) in enumerate(test_batch):\n",
        "\n",
        "      # Reshaping inputs \n",
        "      test_inputs['input_ids'] = test_inputs['input_ids'].view(test_inputs['input_ids'].shape[0]*test_inputs['input_ids'].shape[1],test_inputs['input_ids'].shape[2])\n",
        "      test_inputs['attention_mask'] = test_inputs['attention_mask'].view(test_inputs['attention_mask'].shape[0]*test_inputs['attention_mask'].shape[1],test_inputs['attention_mask'].shape[2])\n",
        "      # Moving Tensors to GPU\n",
        "      test_targets[i,0] = test_target[0].item()\n",
        "\n",
        "      input_ids = test_inputs['input_ids'].to(device)\n",
        "      attention_mask = test_inputs['attention_mask'].to(device)\n",
        "      y_prob = Classifier(input_ids,attention_mask)\n",
        "      y_pred = Classifier.real(y_prob)\n",
        "      test_predictions_proba[i,0] = y_prob[0].item()\n",
        "      test_predictions[i,0] = y_pred[0].item()\n"
      ]
    },
    {
      "cell_type": "markdown",
      "source": [
        "Validation / Training Accuracy  and  Loss graphs"
      ],
      "metadata": {
        "id": "TlPsHWLg8zDM"
      }
    },
    {
      "cell_type": "code",
      "source": [
        "train_history['loss'] = [ i.item() for i in train_history['loss']]\n",
        "# train_history['Accuracy'] = [ i.item() for i in train_history['Accuracy']]\n",
        "\n",
        "val_history['loss'] = [ i.item() for i in val_history['loss']]\n",
        "# val_history['Accuracy'] = [ i.item() for i in val_history['Accuracy']]\n",
        "\n",
        "# Training Section \n",
        "\n",
        "fig , (ax1,ax2) = plt.subplots(ncols=1,nrows=2,figsize=(10,6))\n",
        "ax1.set_ylabel(\"Accuracy\")\n",
        "ax2.set_ylabel(\"Loss\")\n",
        "ax2.set_xlabel(\"Epochs\")\n",
        "ax1.set_title(\"Training Inspectory Graph\")\n",
        "\n",
        "ax1.plot(range(1,epochs+1),train_history['Accuracy'],label = \"Training\")\n",
        "\n",
        "ax2.plot(range(1,epochs+1),train_history['loss'],label = \"Training\")\n",
        "\n",
        "\n",
        "ax1.legend()\n",
        "ax2.legend()\n"
      ],
      "metadata": {
        "colab": {
          "base_uri": "https://localhost:8080/",
          "height": 460
        },
        "id": "xc0whjVC8w2k",
        "outputId": "973db96e-42b0-44cb-cbcd-b6141b48b315"
      },
      "execution_count": null,
      "outputs": [
        {
          "output_type": "execute_result",
          "data": {
            "text/plain": [
              "Text(0, 0.5, 'Accuracy')"
            ]
          },
          "metadata": {},
          "execution_count": 11
        },
        {
          "output_type": "execute_result",
          "data": {
            "text/plain": [
              "Text(0, 0.5, 'Loss')"
            ]
          },
          "metadata": {},
          "execution_count": 11
        },
        {
          "output_type": "execute_result",
          "data": {
            "text/plain": [
              "Text(0.5, 0, 'Epochs')"
            ]
          },
          "metadata": {},
          "execution_count": 11
        },
        {
          "output_type": "execute_result",
          "data": {
            "text/plain": [
              "Text(0.5, 1.0, 'Training Inspectory Graph')"
            ]
          },
          "metadata": {},
          "execution_count": 11
        },
        {
          "output_type": "execute_result",
          "data": {
            "text/plain": [
              "[<matplotlib.lines.Line2D at 0x7f3ea1e8cd50>]"
            ]
          },
          "metadata": {},
          "execution_count": 11
        },
        {
          "output_type": "execute_result",
          "data": {
            "text/plain": [
              "[<matplotlib.lines.Line2D at 0x7f3ea1d46590>]"
            ]
          },
          "metadata": {},
          "execution_count": 11
        },
        {
          "output_type": "execute_result",
          "data": {
            "text/plain": [
              "<matplotlib.legend.Legend at 0x7f3ea1d469d0>"
            ]
          },
          "metadata": {},
          "execution_count": 11
        },
        {
          "output_type": "execute_result",
          "data": {
            "text/plain": [
              "<matplotlib.legend.Legend at 0x7f3ea1d46710>"
            ]
          },
          "metadata": {},
          "execution_count": 11
        },
        {
          "output_type": "display_data",
          "data": {
            "text/plain": [
              "<Figure size 720x432 with 2 Axes>"
            ],
            "image/png": "[encoded data removed]"
          },
          "metadata": {}
        }
      ]
    },
    {
      "cell_type": "code",
      "source": [
        "# Validation Section \n",
        "\n",
        "fig , (ax1,ax2) = plt.subplots(ncols=1,nrows=2,figsize=(10,6))\n",
        "ax1.set_ylabel(\"Accuracy\")\n",
        "ax2.set_ylabel(\"Loss\")\n",
        "ax2.set_xlabel(\"Epochs\")\n",
        "ax1.set_title(\"Validation Inspectory Graph\")\n",
        "\n",
        "ax1.plot(range(1,epochs+1),val_history['Accuracy'],label = \"Validation\",color='blue')\n",
        "\n",
        "ax2.plot(range(1,epochs+1),val_history['loss'],label = \"Validation\",color = \"blue\")\n",
        "\n",
        "\n",
        "ax1.legend()\n",
        "ax2.legend()"
      ],
      "metadata": {
        "colab": {
          "base_uri": "https://localhost:8080/",
          "height": 460
        },
        "id": "vj_oVPvnvu5g",
        "outputId": "e411e0df-8031-4bd0-b3d6-1ce105b31ab8"
      },
      "execution_count": null,
      "outputs": [
        {
          "output_type": "execute_result",
          "data": {
            "text/plain": [
              "Text(0, 0.5, 'Accuracy')"
            ]
          },
          "metadata": {},
          "execution_count": 12
        },
        {
          "output_type": "execute_result",
          "data": {
            "text/plain": [
              "Text(0, 0.5, 'Loss')"
            ]
          },
          "metadata": {},
          "execution_count": 12
        },
        {
          "output_type": "execute_result",
          "data": {
            "text/plain": [
              "Text(0.5, 0, 'Epochs')"
            ]
          },
          "metadata": {},
          "execution_count": 12
        },
        {
          "output_type": "execute_result",
          "data": {
            "text/plain": [
              "Text(0.5, 1.0, 'Validation Inspectory Graph')"
            ]
          },
          "metadata": {},
          "execution_count": 12
        },
        {
          "output_type": "execute_result",
          "data": {
            "text/plain": [
              "[<matplotlib.lines.Line2D at 0x7f3e9a49df50>]"
            ]
          },
          "metadata": {},
          "execution_count": 12
        },
        {
          "output_type": "execute_result",
          "data": {
            "text/plain": [
              "[<matplotlib.lines.Line2D at 0x7f3e9a4a9550>]"
            ]
          },
          "metadata": {},
          "execution_count": 12
        },
        {
          "output_type": "execute_result",
          "data": {
            "text/plain": [
              "<matplotlib.legend.Legend at 0x7f3e9a519b50>"
            ]
          },
          "metadata": {},
          "execution_count": 12
        },
        {
          "output_type": "execute_result",
          "data": {
            "text/plain": [
              "<matplotlib.legend.Legend at 0x7f3ea299ba50>"
            ]
          },
          "metadata": {},
          "execution_count": 12
        },
        {
          "output_type": "display_data",
          "data": {
            "text/plain": [
              "<Figure size 720x432 with 2 Axes>"
            ],
            "image/png": "[encoded data removed]"
          },
          "metadata": {}
        }
      ]
    },
    {
      "cell_type": "markdown",
      "source": [
        "ROC Curve and AUC"
      ],
      "metadata": {
        "id": "rsJmJ2lmudqo"
      }
    },
    {
      "cell_type": "code",
      "execution_count": null,
      "metadata": {
        "colab": {
          "base_uri": "https://localhost:8080/",
          "height": 351
        },
        "id": "te8pUXyoG7x0",
        "outputId": "dc7c7306-b86b-47c8-8678-5feb4df837b2"
      },
      "outputs": [
        {
          "output_type": "execute_result",
          "data": {
            "text/plain": [
              "[<matplotlib.lines.Line2D at 0x7f3e9a3ce710>]"
            ]
          },
          "metadata": {},
          "execution_count": 13
        },
        {
          "output_type": "execute_result",
          "data": {
            "text/plain": [
              "[<matplotlib.lines.Line2D at 0x7f3e9a3cee90>]"
            ]
          },
          "metadata": {},
          "execution_count": 13
        },
        {
          "output_type": "execute_result",
          "data": {
            "text/plain": [
              "Text(0.5, 0, 'False positive rate')"
            ]
          },
          "metadata": {},
          "execution_count": 13
        },
        {
          "output_type": "execute_result",
          "data": {
            "text/plain": [
              "Text(0, 0.5, 'True positive rate')"
            ]
          },
          "metadata": {},
          "execution_count": 13
        },
        {
          "output_type": "execute_result",
          "data": {
            "text/plain": [
              "Text(0.5, 1.0, 'ROC curve')"
            ]
          },
          "metadata": {},
          "execution_count": 13
        },
        {
          "output_type": "execute_result",
          "data": {
            "text/plain": [
              "<matplotlib.legend.Legend at 0x7f3e9a3cedd0>"
            ]
          },
          "metadata": {},
          "execution_count": 13
        },
        {
          "output_type": "display_data",
          "data": {
            "text/plain": [
              "<Figure size 432x288 with 1 Axes>"
            ],
            "image/png": "[encoded data removed]"
          },
          "metadata": {}
        }
      ],
      "source": [
        "import sklearn\n",
        "from sklearn import metrics\n",
        "\n",
        "\n",
        "fpr,tpr,thershhold = metrics.roc_curve(test_targets,test_predictions_proba)\n",
        "auc_score = metrics.roc_auc_score(test_targets,test_predictions_proba)\n",
        "plt.plot([0,1],[0,1],'k--')\n",
        "plt.plot(fpr,tpr , label =f'AUC  = {auc_score : 0.3f}')\n",
        "plt.xlabel('False positive rate')\n",
        "plt.ylabel('True positive rate')\n",
        "plt.title('ROC curve')\n",
        "plt.legend()\n"
      ]
    },
    {
      "cell_type": "markdown",
      "source": [
        "Confusion Matrix"
      ],
      "metadata": {
        "id": "308ezTcI4mR5"
      }
    },
    {
      "cell_type": "code",
      "source": [
        "report = metrics.confusion_matrix(test_targets,test_predictions)\n",
        "\n",
        "names = ['TN','FP','FN','TP']\n",
        "counts = [ f\"{v:0.0f} \" for v in report.flatten()]\n",
        "percentage = [f\"{v:.2%} \" for v in report.flatten()/np.sum(report)]\n",
        "\n",
        "labels = [f\"{f1}\\n{f2}\\n{f3} \" for f1,f2,f3 in zip(names,counts,percentage)]\n",
        "labels = np.asarray(labels).reshape(2,2)\n",
        "sns.heatmap(report,annot=labels,fmt='')\n"
      ],
      "metadata": {
        "colab": {
          "base_uri": "https://localhost:8080/",
          "height": 282
        },
        "id": "6udrvOcp2Wb8",
        "outputId": "811bc498-fc3a-497b-b16c-676ae4cce941"
      },
      "execution_count": null,
      "outputs": [
        {
          "output_type": "execute_result",
          "data": {
            "text/plain": [
              "<matplotlib.axes._subplots.AxesSubplot at 0x7f3e9a3990d0>"
            ]
          },
          "metadata": {},
          "execution_count": 14
        },
        {
          "output_type": "display_data",
          "data": {
            "text/plain": [
              "<Figure size 432x288 with 2 Axes>"
            ],
            "image/png": "[encoded data removed]"
          },
          "metadata": {}
        }
      ]
    },
    {
      "cell_type": "markdown",
      "source": [
        "Recall / Precision / Accuracy"
      ],
      "metadata": {
        "id": "IPx0upAS_w1V"
      }
    },
    {
      "cell_type": "code",
      "source": [
        "\n",
        "precision,recall, thershhold = metrics.precision_recall_curve(test_targets , test_predictions)\n",
        "plt.plot(precision,recall )\n",
        "plt.xlabel('Precision')\n",
        "plt.ylabel('Recall')\n",
        "plt.title('Binary Precision-Recall Curve')\n",
        "plt.legend()"
      ],
      "metadata": {
        "colab": {
          "base_uri": "https://localhost:8080/",
          "height": 354
        },
        "id": "lPpOQFfu_0tt",
        "outputId": "f3a1ee74-5f3b-4116-f8b2-41314352cdc3"
      },
      "execution_count": null,
      "outputs": [
        {
          "output_type": "execute_result",
          "data": {
            "text/plain": [
              "[<matplotlib.lines.Line2D at 0x7f3e9a285c90>]"
            ]
          },
          "metadata": {},
          "execution_count": 15
        },
        {
          "output_type": "execute_result",
          "data": {
            "text/plain": [
              "Text(0.5, 0, 'Precision')"
            ]
          },
          "metadata": {},
          "execution_count": 15
        },
        {
          "output_type": "execute_result",
          "data": {
            "text/plain": [
              "Text(0, 0.5, 'Recall')"
            ]
          },
          "metadata": {},
          "execution_count": 15
        },
        {
          "output_type": "execute_result",
          "data": {
            "text/plain": [
              "Text(0.5, 1.0, 'Binary Precision-Recall Curve')"
            ]
          },
          "metadata": {},
          "execution_count": 15
        },
        {
          "output_type": "stream",
          "name": "stderr",
          "text": [
            "No handles with labels found to put in legend.\n"
          ]
        },
        {
          "output_type": "execute_result",
          "data": {
            "text/plain": [
              "<matplotlib.legend.Legend at 0x7f3e9a38f950>"
            ]
          },
          "metadata": {},
          "execution_count": 15
        },
        {
          "output_type": "display_data",
          "data": {
            "text/plain": [
              "<Figure size 432x288 with 1 Axes>"
            ],
            "image/png": "[encoded data removed]"
          },
          "metadata": {}
        }
      ]
    },
    {
      "cell_type": "code",
      "source": [
        "accuracy = metrics.accuracy_score(test_targets , test_predictions)\n",
        "recall_score = metrics.recall_score(test_targets , test_predictions)\n",
        "precision_score = metrics.precision_score(test_targets , test_predictions)\n",
        "F1_score = metrics.f1_score(test_targets , test_predictions)\n",
        "print( f'Accuracy : {accuracy*100 :.2f}%')\n",
        "print( f'Recall : {recall_score : .2f}')\n",
        "print( f'Precision : {precision_score:.2f}')\n",
        "print( f'F1 Score : {F1_score:.2f}')\n"
      ],
      "metadata": {
        "colab": {
          "base_uri": "https://localhost:8080/"
        },
        "id": "-kiSvGTnB10c",
        "outputId": "fd5a81cf-2a1d-47c2-e4c9-aa871a6f4aac"
      },
      "execution_count": null,
      "outputs": [
        {
          "output_type": "stream",
          "name": "stdout",
          "text": [
            "Accuracy : 94.23%\n",
            "Recall :  0.92\n",
            "Precision : 0.96\n",
            "F1 Score : 0.94\n"
          ]
        }
      ]
    }
  ],
  "metadata": {
    "accelerator": "GPU",
    "colab": {
      "collapsed_sections": [],
      "name": "News_Classification_Project.ipynb",
      "provenance": [],
      "authorship_tag": "ABX9TyMjVQzRZP1IYZXb368GuU4q",
      "include_colab_link": true
    },
    "kernelspec": {
      "display_name": "Python 3",
      "name": "python3"
    },
    "language_info": {
      "name": "python"
    },
    "widgets": {
      "application/vnd.jupyter.widget-state+json": {
        "4c932133fef24fa686a7ac523cfa4bc2": {
          "model_module": "@jupyter-widgets/controls",
          "model_name": "HBoxModel",
          "model_module_version": "1.5.0",
          "state": {
            "_dom_classes": [],
            "_model_module": "@jupyter-widgets/controls",
            "_model_module_version": "1.5.0",
            "_model_name": "HBoxModel",
            "_view_count": null,
            "_view_module": "@jupyter-widgets/controls",
            "_view_module_version": "1.5.0",
            "_view_name": "HBoxView",
            "box_style": "",
            "children": [
              "IPY_MODEL_6f692348efa4493182513bbe798a0deb",
              "IPY_MODEL_191f7fc2e18445669904521cf0cbff17",
              "IPY_MODEL_a9e4e79b69a54bdfa9a4f3a38139d616"
            ],
            "layout": "IPY_MODEL_2d08802901e1463a9478e572316bacff"
          }
        },
        "6f692348efa4493182513bbe798a0deb": {
          "model_module": "@jupyter-widgets/controls",
          "model_name": "HTMLModel",
          "model_module_version": "1.5.0",
          "state": {
            "_dom_classes": [],
            "_model_module": "@jupyter-widgets/controls",
            "_model_module_version": "1.5.0",
            "_model_name": "HTMLModel",
            "_view_count": null,
            "_view_module": "@jupyter-widgets/controls",
            "_view_module_version": "1.5.0",
            "_view_name": "HTMLView",
            "description": "",
            "description_tooltip": null,
            "layout": "IPY_MODEL_32fed64b1ead4656919ef73b6da39335",
            "placeholder": "​",
            "style": "IPY_MODEL_75907ca382694ebf86a8c439c336249a",
            "value": "Downloading: 100%"
          }
        },
        "191f7fc2e18445669904521cf0cbff17": {
          "model_module": "@jupyter-widgets/controls",
          "model_name": "FloatProgressModel",
          "model_module_version": "1.5.0",
          "state": {
            "_dom_classes": [],
            "_model_module": "@jupyter-widgets/controls",
            "_model_module_version": "1.5.0",
            "_model_name": "FloatProgressModel",
            "_view_count": null,
            "_view_module": "@jupyter-widgets/controls",
            "_view_module_version": "1.5.0",
            "_view_name": "ProgressView",
            "bar_style": "success",
            "description": "",
            "description_tooltip": null,
            "layout": "IPY_MODEL_a5944c2bd6284cc08cb7d2b75f4359c8",
            "max": 213450,
            "min": 0,
            "orientation": "horizontal",
            "style": "IPY_MODEL_fb0005f0666e40bbba400568556bb5d2",
            "value": 213450
          }
        },
        "a9e4e79b69a54bdfa9a4f3a38139d616": {
          "model_module": "@jupyter-widgets/controls",
          "model_name": "HTMLModel",
          "model_module_version": "1.5.0",
          "state": {
            "_dom_classes": [],
            "_model_module": "@jupyter-widgets/controls",
            "_model_module_version": "1.5.0",
            "_model_name": "HTMLModel",
            "_view_count": null,
            "_view_module": "@jupyter-widgets/controls",
            "_view_module_version": "1.5.0",
            "_view_name": "HTMLView",
            "description": "",
            "description_tooltip": null,
            "layout": "IPY_MODEL_f803cedd0edd46879080e68018912a69",
            "placeholder": "​",
            "style": "IPY_MODEL_c3c49aa67c364fadaa39e6a49b04267d",
            "value": " 208k/208k [00:00&lt;00:00, 532kB/s]"
          }
        },
        "2d08802901e1463a9478e572316bacff": {
          "model_module": "@jupyter-widgets/base",
          "model_name": "LayoutModel",
          "model_module_version": "1.2.0",
          "state": {
            "_model_module": "@jupyter-widgets/base",
            "_model_module_version": "1.2.0",
            "_model_name": "LayoutModel",
            "_view_count": null,
            "_view_module": "@jupyter-widgets/base",
            "_view_module_version": "1.2.0",
            "_view_name": "LayoutView",
            "align_content": null,
            "align_items": null,
            "align_self": null,
            "border": null,
            "bottom": null,
            "display": null,
            "flex": null,
            "flex_flow": null,
            "grid_area": null,
            "grid_auto_columns": null,
            "grid_auto_flow": null,
            "grid_auto_rows": null,
            "grid_column": null,
            "grid_gap": null,
            "grid_row": null,
            "grid_template_areas": null,
            "grid_template_columns": null,
            "grid_template_rows": null,
            "height": null,
            "justify_content": null,
            "justify_items": null,
            "left": null,
            "margin": null,
            "max_height": null,
            "max_width": null,
            "min_height": null,
            "min_width": null,
            "object_fit": null,
            "object_position": null,
            "order": null,
            "overflow": null,
            "overflow_x": null,
            "overflow_y": null,
            "padding": null,
            "right": null,
            "top": null,
            "visibility": null,
            "width": null
          }
        },
        "32fed64b1ead4656919ef73b6da39335": {
          "model_module": "@jupyter-widgets/base",
          "model_name": "LayoutModel",
          "model_module_version": "1.2.0",
          "state": {
            "_model_module": "@jupyter-widgets/base",
            "_model_module_version": "1.2.0",
            "_model_name": "LayoutModel",
            "_view_count": null,
            "_view_module": "@jupyter-widgets/base",
            "_view_module_version": "1.2.0",
            "_view_name": "LayoutView",
            "align_content": null,
            "align_items": null,
            "align_self": null,
            "border": null,
            "bottom": null,
            "display": null,
            "flex": null,
            "flex_flow": null,
            "grid_area": null,
            "grid_auto_columns": null,
            "grid_auto_flow": null,
            "grid_auto_rows": null,
            "grid_column": null,
            "grid_gap": null,
            "grid_row": null,
            "grid_template_areas": null,
            "grid_template_columns": null,
            "grid_template_rows": null,
            "height": null,
            "justify_content": null,
            "justify_items": null,
            "left": null,
            "margin": null,
            "max_height": null,
            "max_width": null,
            "min_height": null,
            "min_width": null,
            "object_fit": null,
            "object_position": null,
            "order": null,
            "overflow": null,
            "overflow_x": null,
            "overflow_y": null,
            "padding": null,
            "right": null,
            "top": null,
            "visibility": null,
            "width": null
          }
        },
        "75907ca382694ebf86a8c439c336249a": {
          "model_module": "@jupyter-widgets/controls",
          "model_name": "DescriptionStyleModel",
          "model_module_version": "1.5.0",
          "state": {
            "_model_module": "@jupyter-widgets/controls",
            "_model_module_version": "1.5.0",
            "_model_name": "DescriptionStyleModel",
            "_view_count": null,
            "_view_module": "@jupyter-widgets/base",
            "_view_module_version": "1.2.0",
            "_view_name": "StyleView",
            "description_width": ""
          }
        },
        "a5944c2bd6284cc08cb7d2b75f4359c8": {
          "model_module": "@jupyter-widgets/base",
          "model_name": "LayoutModel",
          "model_module_version": "1.2.0",
          "state": {
            "_model_module": "@jupyter-widgets/base",
            "_model_module_version": "1.2.0",
            "_model_name": "LayoutModel",
            "_view_count": null,
            "_view_module": "@jupyter-widgets/base",
            "_view_module_version": "1.2.0",
            "_view_name": "LayoutView",
            "align_content": null,
            "align_items": null,
            "align_self": null,
            "border": null,
            "bottom": null,
            "display": null,
            "flex": null,
            "flex_flow": null,
            "grid_area": null,
            "grid_auto_columns": null,
            "grid_auto_flow": null,
            "grid_auto_rows": null,
            "grid_column": null,
            "grid_gap": null,
            "grid_row": null,
            "grid_template_areas": null,
            "grid_template_columns": null,
            "grid_template_rows": null,
            "height": null,
            "justify_content": null,
            "justify_items": null,
            "left": null,
            "margin": null,
            "max_height": null,
            "max_width": null,
            "min_height": null,
            "min_width": null,
            "object_fit": null,
            "object_position": null,
            "order": null,
            "overflow": null,
            "overflow_x": null,
            "overflow_y": null,
            "padding": null,
            "right": null,
            "top": null,
            "visibility": null,
            "width": null
          }
        },
        "fb0005f0666e40bbba400568556bb5d2": {
          "model_module": "@jupyter-widgets/controls",
          "model_name": "ProgressStyleModel",
          "model_module_version": "1.5.0",
          "state": {
            "_model_module": "@jupyter-widgets/controls",
            "_model_module_version": "1.5.0",
            "_model_name": "ProgressStyleModel",
            "_view_count": null,
            "_view_module": "@jupyter-widgets/base",
            "_view_module_version": "1.2.0",
            "_view_name": "StyleView",
            "bar_color": null,
            "description_width": ""
          }
        },
        "f803cedd0edd46879080e68018912a69": {
          "model_module": "@jupyter-widgets/base",
          "model_name": "LayoutModel",
          "model_module_version": "1.2.0",
          "state": {
            "_model_module": "@jupyter-widgets/base",
            "_model_module_version": "1.2.0",
            "_model_name": "LayoutModel",
            "_view_count": null,
            "_view_module": "@jupyter-widgets/base",
            "_view_module_version": "1.2.0",
            "_view_name": "LayoutView",
            "align_content": null,
            "align_items": null,
            "align_self": null,
            "border": null,
            "bottom": null,
            "display": null,
            "flex": null,
            "flex_flow": null,
            "grid_area": null,
            "grid_auto_columns": null,
            "grid_auto_flow": null,
            "grid_auto_rows": null,
            "grid_column": null,
            "grid_gap": null,
            "grid_row": null,
            "grid_template_areas": null,
            "grid_template_columns": null,
            "grid_template_rows": null,
            "height": null,
            "justify_content": null,
            "justify_items": null,
            "left": null,
            "margin": null,
            "max_height": null,
            "max_width": null,
            "min_height": null,
            "min_width": null,
            "object_fit": null,
            "object_position": null,
            "order": null,
            "overflow": null,
            "overflow_x": null,
            "overflow_y": null,
            "padding": null,
            "right": null,
            "top": null,
            "visibility": null,
            "width": null
          }
        },
        "c3c49aa67c364fadaa39e6a49b04267d": {
          "model_module": "@jupyter-widgets/controls",
          "model_name": "DescriptionStyleModel",
          "model_module_version": "1.5.0",
          "state": {
            "_model_module": "@jupyter-widgets/controls",
            "_model_module_version": "1.5.0",
            "_model_name": "DescriptionStyleModel",
            "_view_count": null,
            "_view_module": "@jupyter-widgets/base",
            "_view_module_version": "1.2.0",
            "_view_name": "StyleView",
            "description_width": ""
          }
        },
        "1887ee0c35634a2fb4bc826441b81191": {
          "model_module": "@jupyter-widgets/controls",
          "model_name": "HBoxModel",
          "model_module_version": "1.5.0",
          "state": {
            "_dom_classes": [],
            "_model_module": "@jupyter-widgets/controls",
            "_model_module_version": "1.5.0",
            "_model_name": "HBoxModel",
            "_view_count": null,
            "_view_module": "@jupyter-widgets/controls",
            "_view_module_version": "1.5.0",
            "_view_name": "HBoxView",
            "box_style": "",
            "children": [
              "IPY_MODEL_17aa33ca5fbc4994bc87f6f9f7f9d81b",
              "IPY_MODEL_ca989cef8b3d48dd981c58c17e8c3198",
              "IPY_MODEL_7cc9e8e77dd9409d98a0782571d8db9a"
            ],
            "layout": "IPY_MODEL_c10db728ae6d48828becc2a11e404037"
          }
        },
        "17aa33ca5fbc4994bc87f6f9f7f9d81b": {
          "model_module": "@jupyter-widgets/controls",
          "model_name": "HTMLModel",
          "model_module_version": "1.5.0",
          "state": {
            "_dom_classes": [],
            "_model_module": "@jupyter-widgets/controls",
            "_model_module_version": "1.5.0",
            "_model_name": "HTMLModel",
            "_view_count": null,
            "_view_module": "@jupyter-widgets/controls",
            "_view_module_version": "1.5.0",
            "_view_name": "HTMLView",
            "description": "",
            "description_tooltip": null,
            "layout": "IPY_MODEL_fb21f57cd9b2414bbae2b6e1496e1112",
            "placeholder": "​",
            "style": "IPY_MODEL_6b28db25442a424c8bd6fc1ef6efe464",
            "value": "Downloading: 100%"
          }
        },
        "ca989cef8b3d48dd981c58c17e8c3198": {
          "model_module": "@jupyter-widgets/controls",
          "model_name": "FloatProgressModel",
          "model_module_version": "1.5.0",
          "state": {
            "_dom_classes": [],
            "_model_module": "@jupyter-widgets/controls",
            "_model_module_version": "1.5.0",
            "_model_name": "FloatProgressModel",
            "_view_count": null,
            "_view_module": "@jupyter-widgets/controls",
            "_view_module_version": "1.5.0",
            "_view_name": "ProgressView",
            "bar_style": "success",
            "description": "",
            "description_tooltip": null,
            "layout": "IPY_MODEL_12e4432841854c5ca136f7b1a3bd1126",
            "max": 29,
            "min": 0,
            "orientation": "horizontal",
            "style": "IPY_MODEL_90f4a2ea7f884289818e2883038fe74d",
            "value": 29
          }
        },
        "7cc9e8e77dd9409d98a0782571d8db9a": {
          "model_module": "@jupyter-widgets/controls",
          "model_name": "HTMLModel",
          "model_module_version": "1.5.0",
          "state": {
            "_dom_classes": [],
            "_model_module": "@jupyter-widgets/controls",
            "_model_module_version": "1.5.0",
            "_model_name": "HTMLModel",
            "_view_count": null,
            "_view_module": "@jupyter-widgets/controls",
            "_view_module_version": "1.5.0",
            "_view_name": "HTMLView",
            "description": "",
            "description_tooltip": null,
            "layout": "IPY_MODEL_3b3d2bcd23c346d9a50c288ea1afcdff",
            "placeholder": "​",
            "style": "IPY_MODEL_0b5e551f3b2a486fab0032e4a4285a5b",
            "value": " 29.0/29.0 [00:00&lt;00:00, 311B/s]"
          }
        },
        "c10db728ae6d48828becc2a11e404037": {
          "model_module": "@jupyter-widgets/base",
          "model_name": "LayoutModel",
          "model_module_version": "1.2.0",
          "state": {
            "_model_module": "@jupyter-widgets/base",
            "_model_module_version": "1.2.0",
            "_model_name": "LayoutModel",
            "_view_count": null,
            "_view_module": "@jupyter-widgets/base",
            "_view_module_version": "1.2.0",
            "_view_name": "LayoutView",
            "align_content": null,
            "align_items": null,
            "align_self": null,
            "border": null,
            "bottom": null,
            "display": null,
            "flex": null,
            "flex_flow": null,
            "grid_area": null,
            "grid_auto_columns": null,
            "grid_auto_flow": null,
            "grid_auto_rows": null,
            "grid_column": null,
            "grid_gap": null,
            "grid_row": null,
            "grid_template_areas": null,
            "grid_template_columns": null,
            "grid_template_rows": null,
            "height": null,
            "justify_content": null,
            "justify_items": null,
            "left": null,
            "margin": null,
            "max_height": null,
            "max_width": null,
            "min_height": null,
            "min_width": null,
            "object_fit": null,
            "object_position": null,
            "order": null,
            "overflow": null,
            "overflow_x": null,
            "overflow_y": null,
            "padding": null,
            "right": null,
            "top": null,
            "visibility": null,
            "width": null
          }
        },
        "fb21f57cd9b2414bbae2b6e1496e1112": {
          "model_module": "@jupyter-widgets/base",
          "model_name": "LayoutModel",
          "model_module_version": "1.2.0",
          "state": {
            "_model_module": "@jupyter-widgets/base",
            "_model_module_version": "1.2.0",
            "_model_name": "LayoutModel",
            "_view_count": null,
            "_view_module": "@jupyter-widgets/base",
            "_view_module_version": "1.2.0",
            "_view_name": "LayoutView",
            "align_content": null,
            "align_items": null,
            "align_self": null,
            "border": null,
            "bottom": null,
            "display": null,
            "flex": null,
            "flex_flow": null,
            "grid_area": null,
            "grid_auto_columns": null,
            "grid_auto_flow": null,
            "grid_auto_rows": null,
            "grid_column": null,
            "grid_gap": null,
            "grid_row": null,
            "grid_template_areas": null,
            "grid_template_columns": null,
            "grid_template_rows": null,
            "height": null,
            "justify_content": null,
            "justify_items": null,
            "left": null,
            "margin": null,
            "max_height": null,
            "max_width": null,
            "min_height": null,
            "min_width": null,
            "object_fit": null,
            "object_position": null,
            "order": null,
            "overflow": null,
            "overflow_x": null,
            "overflow_y": null,
            "padding": null,
            "right": null,
            "top": null,
            "visibility": null,
            "width": null
          }
        },
        "6b28db25442a424c8bd6fc1ef6efe464": {
          "model_module": "@jupyter-widgets/controls",
          "model_name": "DescriptionStyleModel",
          "model_module_version": "1.5.0",
          "state": {
            "_model_module": "@jupyter-widgets/controls",
            "_model_module_version": "1.5.0",
            "_model_name": "DescriptionStyleModel",
            "_view_count": null,
            "_view_module": "@jupyter-widgets/base",
            "_view_module_version": "1.2.0",
            "_view_name": "StyleView",
            "description_width": ""
          }
        },
        "12e4432841854c5ca136f7b1a3bd1126": {
          "model_module": "@jupyter-widgets/base",
          "model_name": "LayoutModel",
          "model_module_version": "1.2.0",
          "state": {
            "_model_module": "@jupyter-widgets/base",
            "_model_module_version": "1.2.0",
            "_model_name": "LayoutModel",
            "_view_count": null,
            "_view_module": "@jupyter-widgets/base",
            "_view_module_version": "1.2.0",
            "_view_name": "LayoutView",
            "align_content": null,
            "align_items": null,
            "align_self": null,
            "border": null,
            "bottom": null,
            "display": null,
            "flex": null,
            "flex_flow": null,
            "grid_area": null,
            "grid_auto_columns": null,
            "grid_auto_flow": null,
            "grid_auto_rows": null,
            "grid_column": null,
            "grid_gap": null,
            "grid_row": null,
            "grid_template_areas": null,
            "grid_template_columns": null,
            "grid_template_rows": null,
            "height": null,
            "justify_content": null,
            "justify_items": null,
            "left": null,
            "margin": null,
            "max_height": null,
            "max_width": null,
            "min_height": null,
            "min_width": null,
            "object_fit": null,
            "object_position": null,
            "order": null,
            "overflow": null,
            "overflow_x": null,
            "overflow_y": null,
            "padding": null,
            "right": null,
            "top": null,
            "visibility": null,
            "width": null
          }
        },
        "90f4a2ea7f884289818e2883038fe74d": {
          "model_module": "@jupyter-widgets/controls",
          "model_name": "ProgressStyleModel",
          "model_module_version": "1.5.0",
          "state": {
            "_model_module": "@jupyter-widgets/controls",
            "_model_module_version": "1.5.0",
            "_model_name": "ProgressStyleModel",
            "_view_count": null,
            "_view_module": "@jupyter-widgets/base",
            "_view_module_version": "1.2.0",
            "_view_name": "StyleView",
            "bar_color": null,
            "description_width": ""
          }
        },
        "3b3d2bcd23c346d9a50c288ea1afcdff": {
          "model_module": "@jupyter-widgets/base",
          "model_name": "LayoutModel",
          "model_module_version": "1.2.0",
          "state": {
            "_model_module": "@jupyter-widgets/base",
            "_model_module_version": "1.2.0",
            "_model_name": "LayoutModel",
            "_view_count": null,
            "_view_module": "@jupyter-widgets/base",
            "_view_module_version": "1.2.0",
            "_view_name": "LayoutView",
            "align_content": null,
            "align_items": null,
            "align_self": null,
            "border": null,
            "bottom": null,
            "display": null,
            "flex": null,
            "flex_flow": null,
            "grid_area": null,
            "grid_auto_columns": null,
            "grid_auto_flow": null,
            "grid_auto_rows": null,
            "grid_column": null,
            "grid_gap": null,
            "grid_row": null,
            "grid_template_areas": null,
            "grid_template_columns": null,
            "grid_template_rows": null,
            "height": null,
            "justify_content": null,
            "justify_items": null,
            "left": null,
            "margin": null,
            "max_height": null,
            "max_width": null,
            "min_height": null,
            "min_width": null,
            "object_fit": null,
            "object_position": null,
            "order": null,
            "overflow": null,
            "overflow_x": null,
            "overflow_y": null,
            "padding": null,
            "right": null,
            "top": null,
            "visibility": null,
            "width": null
          }
        },
        "0b5e551f3b2a486fab0032e4a4285a5b": {
          "model_module": "@jupyter-widgets/controls",
          "model_name": "DescriptionStyleModel",
          "model_module_version": "1.5.0",
          "state": {
            "_model_module": "@jupyter-widgets/controls",
            "_model_module_version": "1.5.0",
            "_model_name": "DescriptionStyleModel",
            "_view_count": null,
            "_view_module": "@jupyter-widgets/base",
            "_view_module_version": "1.2.0",
            "_view_name": "StyleView",
            "description_width": ""
          }
        },
        "4306e51432aa47fbb8f16feebdca1c56": {
          "model_module": "@jupyter-widgets/controls",
          "model_name": "HBoxModel",
          "model_module_version": "1.5.0",
          "state": {
            "_dom_classes": [],
            "_model_module": "@jupyter-widgets/controls",
            "_model_module_version": "1.5.0",
            "_model_name": "HBoxModel",
            "_view_count": null,
            "_view_module": "@jupyter-widgets/controls",
            "_view_module_version": "1.5.0",
            "_view_name": "HBoxView",
            "box_style": "",
            "children": [
              "IPY_MODEL_7c4187119f8341baabb836cc483a4c26",
              "IPY_MODEL_06e735ba6fb0485fb2fa360e84962672",
              "IPY_MODEL_b7065769c6df4851b9621ac392f08773"
            ],
            "layout": "IPY_MODEL_643de03589b846c58ac130014f2cd594"
          }
        },
        "7c4187119f8341baabb836cc483a4c26": {
          "model_module": "@jupyter-widgets/controls",
          "model_name": "HTMLModel",
          "model_module_version": "1.5.0",
          "state": {
            "_dom_classes": [],
            "_model_module": "@jupyter-widgets/controls",
            "_model_module_version": "1.5.0",
            "_model_name": "HTMLModel",
            "_view_count": null,
            "_view_module": "@jupyter-widgets/controls",
            "_view_module_version": "1.5.0",
            "_view_name": "HTMLView",
            "description": "",
            "description_tooltip": null,
            "layout": "IPY_MODEL_6d2c46bec8cf4a408af31d4359dc73a9",
            "placeholder": "​",
            "style": "IPY_MODEL_3ca9c3e10b454f918a37f9bc64230187",
            "value": "Downloading: 100%"
          }
        },
        "06e735ba6fb0485fb2fa360e84962672": {
          "model_module": "@jupyter-widgets/controls",
          "model_name": "FloatProgressModel",
          "model_module_version": "1.5.0",
          "state": {
            "_dom_classes": [],
            "_model_module": "@jupyter-widgets/controls",
            "_model_module_version": "1.5.0",
            "_model_name": "FloatProgressModel",
            "_view_count": null,
            "_view_module": "@jupyter-widgets/controls",
            "_view_module_version": "1.5.0",
            "_view_name": "ProgressView",
            "bar_style": "success",
            "description": "",
            "description_tooltip": null,
            "layout": "IPY_MODEL_ab02d477915b459186ddec1ed33092bd",
            "max": 570,
            "min": 0,
            "orientation": "horizontal",
            "style": "IPY_MODEL_c394f11687c54dac9e3bfb39c1818d76",
            "value": 570
          }
        },
        "b7065769c6df4851b9621ac392f08773": {
          "model_module": "@jupyter-widgets/controls",
          "model_name": "HTMLModel",
          "model_module_version": "1.5.0",
          "state": {
            "_dom_classes": [],
            "_model_module": "@jupyter-widgets/controls",
            "_model_module_version": "1.5.0",
            "_model_name": "HTMLModel",
            "_view_count": null,
            "_view_module": "@jupyter-widgets/controls",
            "_view_module_version": "1.5.0",
            "_view_name": "HTMLView",
            "description": "",
            "description_tooltip": null,
            "layout": "IPY_MODEL_813a569d250d4cb3aa5ed90f15aa9fc5",
            "placeholder": "​",
            "style": "IPY_MODEL_5315087f3bbc498981d89102dff8b492",
            "value": " 570/570 [00:00&lt;00:00, 5.69kB/s]"
          }
        },
        "643de03589b846c58ac130014f2cd594": {
          "model_module": "@jupyter-widgets/base",
          "model_name": "LayoutModel",
          "model_module_version": "1.2.0",
          "state": {
            "_model_module": "@jupyter-widgets/base",
            "_model_module_version": "1.2.0",
            "_model_name": "LayoutModel",
            "_view_count": null,
            "_view_module": "@jupyter-widgets/base",
            "_view_module_version": "1.2.0",
            "_view_name": "LayoutView",
            "align_content": null,
            "align_items": null,
            "align_self": null,
            "border": null,
            "bottom": null,
            "display": null,
            "flex": null,
            "flex_flow": null,
            "grid_area": null,
            "grid_auto_columns": null,
            "grid_auto_flow": null,
            "grid_auto_rows": null,
            "grid_column": null,
            "grid_gap": null,
            "grid_row": null,
            "grid_template_areas": null,
            "grid_template_columns": null,
            "grid_template_rows": null,
            "height": null,
            "justify_content": null,
            "justify_items": null,
            "left": null,
            "margin": null,
            "max_height": null,
            "max_width": null,
            "min_height": null,
            "min_width": null,
            "object_fit": null,
            "object_position": null,
            "order": null,
            "overflow": null,
            "overflow_x": null,
            "overflow_y": null,
            "padding": null,
            "right": null,
            "top": null,
            "visibility": null,
            "width": null
          }
        },
        "6d2c46bec8cf4a408af31d4359dc73a9": {
          "model_module": "@jupyter-widgets/base",
          "model_name": "LayoutModel",
          "model_module_version": "1.2.0",
          "state": {
            "_model_module": "@jupyter-widgets/base",
            "_model_module_version": "1.2.0",
            "_model_name": "LayoutModel",
            "_view_count": null,
            "_view_module": "@jupyter-widgets/base",
            "_view_module_version": "1.2.0",
            "_view_name": "LayoutView",
            "align_content": null,
            "align_items": null,
            "align_self": null,
            "border": null,
            "bottom": null,
            "display": null,
            "flex": null,
            "flex_flow": null,
            "grid_area": null,
            "grid_auto_columns": null,
            "grid_auto_flow": null,
            "grid_auto_rows": null,
            "grid_column": null,
            "grid_gap": null,
            "grid_row": null,
            "grid_template_areas": null,
            "grid_template_columns": null,
            "grid_template_rows": null,
            "height": null,
            "justify_content": null,
            "justify_items": null,
            "left": null,
            "margin": null,
            "max_height": null,
            "max_width": null,
            "min_height": null,
            "min_width": null,
            "object_fit": null,
            "object_position": null,
            "order": null,
            "overflow": null,
            "overflow_x": null,
            "overflow_y": null,
            "padding": null,
            "right": null,
            "top": null,
            "visibility": null,
            "width": null
          }
        },
        "3ca9c3e10b454f918a37f9bc64230187": {
          "model_module": "@jupyter-widgets/controls",
          "model_name": "DescriptionStyleModel",
          "model_module_version": "1.5.0",
          "state": {
            "_model_module": "@jupyter-widgets/controls",
            "_model_module_version": "1.5.0",
            "_model_name": "DescriptionStyleModel",
            "_view_count": null,
            "_view_module": "@jupyter-widgets/base",
            "_view_module_version": "1.2.0",
            "_view_name": "StyleView",
            "description_width": ""
          }
        },
        "ab02d477915b459186ddec1ed33092bd": {
          "model_module": "@jupyter-widgets/base",
          "model_name": "LayoutModel",
          "model_module_version": "1.2.0",
          "state": {
            "_model_module": "@jupyter-widgets/base",
            "_model_module_version": "1.2.0",
            "_model_name": "LayoutModel",
            "_view_count": null,
            "_view_module": "@jupyter-widgets/base",
            "_view_module_version": "1.2.0",
            "_view_name": "LayoutView",
            "align_content": null,
            "align_items": null,
            "align_self": null,
            "border": null,
            "bottom": null,
            "display": null,
            "flex": null,
            "flex_flow": null,
            "grid_area": null,
            "grid_auto_columns": null,
            "grid_auto_flow": null,
            "grid_auto_rows": null,
            "grid_column": null,
            "grid_gap": null,
            "grid_row": null,
            "grid_template_areas": null,
            "grid_template_columns": null,
            "grid_template_rows": null,
            "height": null,
            "justify_content": null,
            "justify_items": null,
            "left": null,
            "margin": null,
            "max_height": null,
            "max_width": null,
            "min_height": null,
            "min_width": null,
            "object_fit": null,
            "object_position": null,
            "order": null,
            "overflow": null,
            "overflow_x": null,
            "overflow_y": null,
            "padding": null,
            "right": null,
            "top": null,
            "visibility": null,
            "width": null
          }
        },
        "c394f11687c54dac9e3bfb39c1818d76": {
          "model_module": "@jupyter-widgets/controls",
          "model_name": "ProgressStyleModel",
          "model_module_version": "1.5.0",
          "state": {
            "_model_module": "@jupyter-widgets/controls",
            "_model_module_version": "1.5.0",
            "_model_name": "ProgressStyleModel",
            "_view_count": null,
            "_view_module": "@jupyter-widgets/base",
            "_view_module_version": "1.2.0",
            "_view_name": "StyleView",
            "bar_color": null,
            "description_width": ""
          }
        },
        "813a569d250d4cb3aa5ed90f15aa9fc5": {
          "model_module": "@jupyter-widgets/base",
          "model_name": "LayoutModel",
          "model_module_version": "1.2.0",
          "state": {
            "_model_module": "@jupyter-widgets/base",
            "_model_module_version": "1.2.0",
            "_model_name": "LayoutModel",
            "_view_count": null,
            "_view_module": "@jupyter-widgets/base",
            "_view_module_version": "1.2.0",
            "_view_name": "LayoutView",
            "align_content": null,
            "align_items": null,
            "align_self": null,
            "border": null,
            "bottom": null,
            "display": null,
            "flex": null,
            "flex_flow": null,
            "grid_area": null,
            "grid_auto_columns": null,
            "grid_auto_flow": null,
            "grid_auto_rows": null,
            "grid_column": null,
            "grid_gap": null,
            "grid_row": null,
            "grid_template_areas": null,
            "grid_template_columns": null,
            "grid_template_rows": null,
            "height": null,
            "justify_content": null,
            "justify_items": null,
            "left": null,
            "margin": null,
            "max_height": null,
            "max_width": null,
            "min_height": null,
            "min_width": null,
            "object_fit": null,
            "object_position": null,
            "order": null,
            "overflow": null,
            "overflow_x": null,
            "overflow_y": null,
            "padding": null,
            "right": null,
            "top": null,
            "visibility": null,
            "width": null
          }
        },
        "5315087f3bbc498981d89102dff8b492": {
          "model_module": "@jupyter-widgets/controls",
          "model_name": "DescriptionStyleModel",
          "model_module_version": "1.5.0",
          "state": {
            "_model_module": "@jupyter-widgets/controls",
            "_model_module_version": "1.5.0",
            "_model_name": "DescriptionStyleModel",
            "_view_count": null,
            "_view_module": "@jupyter-widgets/base",
            "_view_module_version": "1.2.0",
            "_view_name": "StyleView",
            "description_width": ""
          }
        },
        "0d8a90a25a0243caa8c74cf38ea79637": {
          "model_module": "@jupyter-widgets/controls",
          "model_name": "HBoxModel",
          "model_module_version": "1.5.0",
          "state": {
            "_dom_classes": [],
            "_model_module": "@jupyter-widgets/controls",
            "_model_module_version": "1.5.0",
            "_model_name": "HBoxModel",
            "_view_count": null,
            "_view_module": "@jupyter-widgets/controls",
            "_view_module_version": "1.5.0",
            "_view_name": "HBoxView",
            "box_style": "",
            "children": [
              "IPY_MODEL_2ab101bd42a040c5b51fcc290d9b23f3",
              "IPY_MODEL_437bc3a0bc7347fe81ee01fb32f0ffcf",
              "IPY_MODEL_3cab4ca1e40c450885f87460aaffb05e"
            ],
            "layout": "IPY_MODEL_ce8a8a6e1dea4032a01c2b1e9079a2ad"
          }
        },
        "2ab101bd42a040c5b51fcc290d9b23f3": {
          "model_module": "@jupyter-widgets/controls",
          "model_name": "HTMLModel",
          "model_module_version": "1.5.0",
          "state": {
            "_dom_classes": [],
            "_model_module": "@jupyter-widgets/controls",
            "_model_module_version": "1.5.0",
            "_model_name": "HTMLModel",
            "_view_count": null,
            "_view_module": "@jupyter-widgets/controls",
            "_view_module_version": "1.5.0",
            "_view_name": "HTMLView",
            "description": "",
            "description_tooltip": null,
            "layout": "IPY_MODEL_5ef6283b49a242e49480a49e38f48fe2",
            "placeholder": "​",
            "style": "IPY_MODEL_6f6469cfd4a44b849fa2dae18407c494",
            "value": "Downloading: 100%"
          }
        },
        "437bc3a0bc7347fe81ee01fb32f0ffcf": {
          "model_module": "@jupyter-widgets/controls",
          "model_name": "FloatProgressModel",
          "model_module_version": "1.5.0",
          "state": {
            "_dom_classes": [],
            "_model_module": "@jupyter-widgets/controls",
            "_model_module_version": "1.5.0",
            "_model_name": "FloatProgressModel",
            "_view_count": null,
            "_view_module": "@jupyter-widgets/controls",
            "_view_module_version": "1.5.0",
            "_view_name": "ProgressView",
            "bar_style": "success",
            "description": "",
            "description_tooltip": null,
            "layout": "IPY_MODEL_47536a08fe0b4319989531da059872de",
            "max": 435779157,
            "min": 0,
            "orientation": "horizontal",
            "style": "IPY_MODEL_25ef98e472674e86828ef33633c8f94f",
            "value": 435779157
          }
        },
        "3cab4ca1e40c450885f87460aaffb05e": {
          "model_module": "@jupyter-widgets/controls",
          "model_name": "HTMLModel",
          "model_module_version": "1.5.0",
          "state": {
            "_dom_classes": [],
            "_model_module": "@jupyter-widgets/controls",
            "_model_module_version": "1.5.0",
            "_model_name": "HTMLModel",
            "_view_count": null,
            "_view_module": "@jupyter-widgets/controls",
            "_view_module_version": "1.5.0",
            "_view_name": "HTMLView",
            "description": "",
            "description_tooltip": null,
            "layout": "IPY_MODEL_c0046106735b44519ba4ee581a8ae31e",
            "placeholder": "​",
            "style": "IPY_MODEL_fcc12622e065417bbe3d628a2da77788",
            "value": " 416M/416M [00:17&lt;00:00, 54.6MB/s]"
          }
        },
        "ce8a8a6e1dea4032a01c2b1e9079a2ad": {
          "model_module": "@jupyter-widgets/base",
          "model_name": "LayoutModel",
          "model_module_version": "1.2.0",
          "state": {
            "_model_module": "@jupyter-widgets/base",
            "_model_module_version": "1.2.0",
            "_model_name": "LayoutModel",
            "_view_count": null,
            "_view_module": "@jupyter-widgets/base",
            "_view_module_version": "1.2.0",
            "_view_name": "LayoutView",
            "align_content": null,
            "align_items": null,
            "align_self": null,
            "border": null,
            "bottom": null,
            "display": null,
            "flex": null,
            "flex_flow": null,
            "grid_area": null,
            "grid_auto_columns": null,
            "grid_auto_flow": null,
            "grid_auto_rows": null,
            "grid_column": null,
            "grid_gap": null,
            "grid_row": null,
            "grid_template_areas": null,
            "grid_template_columns": null,
            "grid_template_rows": null,
            "height": null,
            "justify_content": null,
            "justify_items": null,
            "left": null,
            "margin": null,
            "max_height": null,
            "max_width": null,
            "min_height": null,
            "min_width": null,
            "object_fit": null,
            "object_position": null,
            "order": null,
            "overflow": null,
            "overflow_x": null,
            "overflow_y": null,
            "padding": null,
            "right": null,
            "top": null,
            "visibility": null,
            "width": null
          }
        },
        "5ef6283b49a242e49480a49e38f48fe2": {
          "model_module": "@jupyter-widgets/base",
          "model_name": "LayoutModel",
          "model_module_version": "1.2.0",
          "state": {
            "_model_module": "@jupyter-widgets/base",
            "_model_module_version": "1.2.0",
            "_model_name": "LayoutModel",
            "_view_count": null,
            "_view_module": "@jupyter-widgets/base",
            "_view_module_version": "1.2.0",
            "_view_name": "LayoutView",
            "align_content": null,
            "align_items": null,
            "align_self": null,
            "border": null,
            "bottom": null,
            "display": null,
            "flex": null,
            "flex_flow": null,
            "grid_area": null,
            "grid_auto_columns": null,
            "grid_auto_flow": null,
            "grid_auto_rows": null,
            "grid_column": null,
            "grid_gap": null,
            "grid_row": null,
            "grid_template_areas": null,
            "grid_template_columns": null,
            "grid_template_rows": null,
            "height": null,
            "justify_content": null,
            "justify_items": null,
            "left": null,
            "margin": null,
            "max_height": null,
            "max_width": null,
            "min_height": null,
            "min_width": null,
            "object_fit": null,
            "object_position": null,
            "order": null,
            "overflow": null,
            "overflow_x": null,
            "overflow_y": null,
            "padding": null,
            "right": null,
            "top": null,
            "visibility": null,
            "width": null
          }
        },
        "6f6469cfd4a44b849fa2dae18407c494": {
          "model_module": "@jupyter-widgets/controls",
          "model_name": "DescriptionStyleModel",
          "model_module_version": "1.5.0",
          "state": {
            "_model_module": "@jupyter-widgets/controls",
            "_model_module_version": "1.5.0",
            "_model_name": "DescriptionStyleModel",
            "_view_count": null,
            "_view_module": "@jupyter-widgets/base",
            "_view_module_version": "1.2.0",
            "_view_name": "StyleView",
            "description_width": ""
          }
        },
        "47536a08fe0b4319989531da059872de": {
          "model_module": "@jupyter-widgets/base",
          "model_name": "LayoutModel",
          "model_module_version": "1.2.0",
          "state": {
            "_model_module": "@jupyter-widgets/base",
            "_model_module_version": "1.2.0",
            "_model_name": "LayoutModel",
            "_view_count": null,
            "_view_module": "@jupyter-widgets/base",
            "_view_module_version": "1.2.0",
            "_view_name": "LayoutView",
            "align_content": null,
            "align_items": null,
            "align_self": null,
            "border": null,
            "bottom": null,
            "display": null,
            "flex": null,
            "flex_flow": null,
            "grid_area": null,
            "grid_auto_columns": null,
            "grid_auto_flow": null,
            "grid_auto_rows": null,
            "grid_column": null,
            "grid_gap": null,
            "grid_row": null,
            "grid_template_areas": null,
            "grid_template_columns": null,
            "grid_template_rows": null,
            "height": null,
            "justify_content": null,
            "justify_items": null,
            "left": null,
            "margin": null,
            "max_height": null,
            "max_width": null,
            "min_height": null,
            "min_width": null,
            "object_fit": null,
            "object_position": null,
            "order": null,
            "overflow": null,
            "overflow_x": null,
            "overflow_y": null,
            "padding": null,
            "right": null,
            "top": null,
            "visibility": null,
            "width": null
          }
        },
        "25ef98e472674e86828ef33633c8f94f": {
          "model_module": "@jupyter-widgets/controls",
          "model_name": "ProgressStyleModel",
          "model_module_version": "1.5.0",
          "state": {
            "_model_module": "@jupyter-widgets/controls",
            "_model_module_version": "1.5.0",
            "_model_name": "ProgressStyleModel",
            "_view_count": null,
            "_view_module": "@jupyter-widgets/base",
            "_view_module_version": "1.2.0",
            "_view_name": "StyleView",
            "bar_color": null,
            "description_width": ""
          }
        },
        "c0046106735b44519ba4ee581a8ae31e": {
          "model_module": "@jupyter-widgets/base",
          "model_name": "LayoutModel",
          "model_module_version": "1.2.0",
          "state": {
            "_model_module": "@jupyter-widgets/base",
            "_model_module_version": "1.2.0",
            "_model_name": "LayoutModel",
            "_view_count": null,
            "_view_module": "@jupyter-widgets/base",
            "_view_module_version": "1.2.0",
            "_view_name": "LayoutView",
            "align_content": null,
            "align_items": null,
            "align_self": null,
            "border": null,
            "bottom": null,
            "display": null,
            "flex": null,
            "flex_flow": null,
            "grid_area": null,
            "grid_auto_columns": null,
            "grid_auto_flow": null,
            "grid_auto_rows": null,
            "grid_column": null,
            "grid_gap": null,
            "grid_row": null,
            "grid_template_areas": null,
            "grid_template_columns": null,
            "grid_template_rows": null,
            "height": null,
            "justify_content": null,
            "justify_items": null,
            "left": null,
            "margin": null,
            "max_height": null,
            "max_width": null,
            "min_height": null,
            "min_width": null,
            "object_fit": null,
            "object_position": null,
            "order": null,
            "overflow": null,
            "overflow_x": null,
            "overflow_y": null,
            "padding": null,
            "right": null,
            "top": null,
            "visibility": null,
            "width": null
          }
        },
        "fcc12622e065417bbe3d628a2da77788": {
          "model_module": "@jupyter-widgets/controls",
          "model_name": "DescriptionStyleModel",
          "model_module_version": "1.5.0",
          "state": {
            "_model_module": "@jupyter-widgets/controls",
            "_model_module_version": "1.5.0",
            "_model_name": "DescriptionStyleModel",
            "_view_count": null,
            "_view_module": "@jupyter-widgets/base",
            "_view_module_version": "1.2.0",
            "_view_name": "StyleView",
            "description_width": ""
          }
        }
      }
    }
  },
  "nbformat": 4,
  "nbformat_minor": 0
}